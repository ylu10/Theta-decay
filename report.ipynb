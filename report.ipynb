{
 "cells": [
  {
   "cell_type": "markdown",
   "id": "543cf83c-814b-4f26-b0a3-4305e4d22d17",
   "metadata": {},
   "source": [
    "# report"
   ]
  },
  {
   "cell_type": "code",
   "execution_count": 1,
   "id": "82c2acbf-20bd-4b90-b67e-9d4ab18eede7",
   "metadata": {},
   "outputs": [],
   "source": [
    "import warnings\n",
    "warnings.filterwarnings('ignore')\n",
    "import numpy as np\n",
    "import pandas as pd\n",
    "import os\n",
    "import copy\n",
    "import holidays\n",
    "from datetime import date\n",
    "from contract_select import contract_select\n",
    "from hedge_calc import hedge_calc\n",
    "from greek_calc import greek_calc, pnl_daily_calc\n",
    "from position_adj_cost import position_adj_cost, initial_position_cost"
   ]
  },
  {
   "cell_type": "markdown",
   "id": "93536d0a-b842-4d0e-9d90-62aa5de8fb35",
   "metadata": {},
   "source": [
    "# Set the first trading date"
   ]
  },
  {
   "cell_type": "code",
   "execution_count": 2,
   "id": "521780ee-2cef-4759-8cce-f1766eb20588",
   "metadata": {
    "tags": []
   },
   "outputs": [],
   "source": [
    "moneyness = 'out'\n",
    "main_type = 'P'\n",
    "hedge_type = 'P'\n",
    "main_minDistance = 0.08\n",
    "hedge_minDistance = 0.06\n",
    "starting_date = '2018-12-10'\n",
    "\n",
    "main_original = contract_select(select_type='main', date= starting_date, max_spread_pct = 0.05, spy_spx='spx', contract_type = main_type, minAsk=1.0, minDistance = main_minDistance, minDTE=15, moneyness=moneyness, num=2)\n",
    "hedge_original = contract_select(select_type='hedge', date= starting_date, max_spread_pct = 0.05, spy_spx='spx', contract_type = hedge_type, minAsk=0.2, minDistance = hedge_minDistance, minDTE=15, moneyness=moneyness, num=3)\n",
    "main_original.update(hedge_original)\n",
    "\n",
    "position = hedge_calc(main_original)\n",
    "initial_spread_cost = initial_position_cost(position)"
   ]
  },
  {
   "cell_type": "markdown",
   "id": "bbff1949-17fd-46a2-91b9-024fcf793fca",
   "metadata": {},
   "source": [
    "# Ignore any holiday and friday"
   ]
  },
  {
   "cell_type": "code",
   "execution_count": null,
   "id": "44e5ed0c-6c37-4c29-8eaf-e950702ee0a1",
   "metadata": {
    "tags": []
   },
   "outputs": [],
   "source": [
    "greek_pnl_daily = pd.DataFrame()\n",
    "greek_pnl_daily['daily_pnl'] = 0\n",
    "greek_pnl_daily['adjust_cost'] = 0\n",
    "\n",
    "d = copy.deepcopy(position)\n",
    "daily = []\n",
    "\n",
    "for i in range(30):\n",
    "    \n",
    "    greek_pnl_daily = greek_pnl_daily.append(greek_calc(d))\n",
    "    d = pnl_daily_calc(d)\n",
    "    trading_date = d['date']\n",
    "    greek_pnl_daily['daily_pnl'][-1] =  d['daily_rtn']\n",
    "    daily.append(d)\n",
    "    #if the hedge contracts are all dropped since pnl_daily_calc cannot find the contracts in the next trading day\n",
    "    if len(d['hedge']) == 0:\n",
    "        date = get_next_trading_day(greek_pnl_daily.index[-1], 'spx')\n",
    "        d['hedge'] = contract_select(select_type='hedge', date= date,  max_spread_pct = 0.05, spy_spx='spx', contract_type = hedge_type, minAsk=0.2, minDistance = hedge_minDistance, minDTE=15, moneyness=moneyness, num = 2)['hedge']\n",
    "        d['hedge']['WEIGHT'] = 0\n",
    "    #if the main contracts are all dropped since pnl_daily_calc cannot find the contracts in the next trading day\n",
    "    if len(d['main']) == 0:\n",
    "        date = get_next_trading_day(greek_pnl_daily.index[-1], 'spx')\n",
    "        d['main'] = contract_select(select_type='main', date= date,  max_spread_pct = 0.05, spy_spx='spx', contract_type = main_type, minAsk=1.0, minDistance = main_minDistance, minDTE=15, moneyness=moneyness, num=3)['main']\n",
    "        d['main']['WEIGHT'] = 0\n",
    "        \n",
    "    temp = copy.deepcopy(hedge_calc(d))\n",
    "    \n",
    "    # drop/wind up certain main contracts that meet some criteria\n",
    "    date = temp['main'].index[0][0]\n",
    "    if main_type == 'P': \n",
    "        temp['main'] = temp['main'][temp['main']['[UNDERLYING_LAST]'] > temp['main']['[STRIKE]']]\n",
    "        temp['main'] = temp['main'][temp['main']['[P_ASK]'] > 0.5]\n",
    "    if main_type == 'C': \n",
    "        temp['main'] = temp['main'][temp['main']['[UNDERLYING_LAST]'] < temp['main']['[STRIKE]']]\n",
    "        temp['main'] = temp['main'][temp['main']['[C_ASK]'] > 0.5]\n",
    "    temp['main'] = temp['main'][temp['main']['[DTE]'] > 5]\n",
    "    temp['main'] = temp['main'][temp['main']['[STRIKE_DISTANCE_PCT]'] >= main_minDistance/2]\n",
    "    if len(temp['main']) < 3:\n",
    "        new_contract = contract_select(select_type='main', date = date, max_spread_pct = 0.05, spy_spx='spx', contract_type = main_type, minAsk=0.2, minDistance = main_minDistance, minDTE=15, moneyness=moneyness, num=2-len(temp['main']))\n",
    "        temp['main'] = temp['main'].append(new_contract['main'])\n",
    "        temp['main']['WEIGHT'] = -1/len(temp['main'])\n",
    "    # drop/wind up certain hedge contracts that meet some criteria\n",
    "    if hedge_type == 'P': temp['hedge'] = temp['hedge'][temp['hedge']['[UNDERLYING_LAST]'] > temp['hedge']['[STRIKE]']]\n",
    "    if hedge_type == 'C': temp['hedge'] = temp['hedge'][temp['hedge']['[UNDERLYING_LAST]'] < temp['hedge']['[STRIKE]']]\n",
    "    temp['hedge'] = temp['hedge'][temp['hedge']['[DTE]'] > 5]\n",
    "    temp['hedge'] = temp['hedge'][temp['hedge']['[STRIKE_DISTANCE_PCT]'] >= hedge_minDistance/2]\n",
    "    if len(temp['hedge']) < 3:\n",
    "        new_contract = contract_select(select_type='hedge', date = date, max_spread_pct = 0.05, spy_spx='spx', contract_type = hedge_type, minAsk=0.2, minDistance = hedge_minDistance, minDTE=15, moneyness=moneyness, num=3-len(temp['hedge']))\n",
    "        temp['hedge'] = temp['hedge'].append(new_contract['hedge'])\n",
    "        temp['hedge']['WEIGHT'] = 1/len(temp['hedge'])\n",
    "        \n",
    "    greek_pnl_daily['adjust_cost'][-1] = position_adj_cost(d, temp)['adjust_cost']\n",
    "    d=copy.deepcopy(temp)"
   ]
  },
  {
   "cell_type": "markdown",
   "id": "793bdbec-be99-45ad-b552-2115337b7a91",
   "metadata": {
    "tags": []
   },
   "source": [
    "# Wind up position every friday"
   ]
  },
  {
   "cell_type": "code",
   "execution_count": null,
   "id": "963f9d61-cdf6-4fac-874b-2e081a88b683",
   "metadata": {
    "tags": []
   },
   "outputs": [],
   "source": [
    "greek_pnl_daily = pd.DataFrame()\n",
    "greek_pnl_daily['daily_pnl'] = 0\n",
    "greek_pnl_daily['adjust_cost'] = 0\n",
    "\n",
    "d = copy.deepcopy(position)\n",
    "daily = []\n",
    "\n",
    "for i in range(30):\n",
    "    greek_pnl_daily = greek_pnl_daily.append(greek_calc(d))\n",
    "    d = pnl_daily_calc(d)\n",
    "    greek_pnl_daily['daily_pnl'][-1] =  d['daily_rtn']\n",
    "    daily.append(d)\n",
    "    #if the hedge contracts are all dropped since pnl_daily_calc cannot find the contracts in the next trading day\n",
    "    if len(d['hedge']) == 0:\n",
    "        date = get_next_trading_day(greek_pnl_daily.index[-1], 'spx')\n",
    "        d['hedge'] = contract_select(select_type='hedge', date= date,  max_spread_pct = 0.05, spy_spx='spx', contract_type = hedge_type, minAsk=0.2, minDistance = hedge_minDistance, minDTE=15, moneyness=moneyness, num = 2)['hedge']\n",
    "        d['hedge']['WEIGHT'] = 0\n",
    "    #if the main contracts are all dropped since pnl_daily_calc cannot find the contracts in the next trading day\n",
    "    if len(d['main']) == 0:\n",
    "        date = get_next_trading_day(greek_pnl_daily.index[-1], 'spx')\n",
    "        d['main'] = contract_select(select_type='main', date= date,  max_spread_pct = 0.05, spy_spx='spx', contract_type = main_type, minAsk=1.0, minDistance = main_minDistance, minDTE=15, moneyness=moneyness, num=3)['main']\n",
    "        d['main']['WEIGHT'] = 0\n",
    "        \n",
    "    temp = copy.deepcopy(hedge_calc(d))\n",
    "    \n",
    "    # drop/wind up certain main contracts that meet some criteria\n",
    "    date = temp['main'].index[0][0]\n",
    "    if main_type == 'P': \n",
    "        temp['main'] = temp['main'][temp['main']['[UNDERLYING_LAST]'] > temp['main']['[STRIKE]']]\n",
    "        temp['main'] = temp['main'][temp['main']['[P_ASK]'] > 0.5]\n",
    "    if main_type == 'C': \n",
    "        temp['main'] = temp['main'][temp['main']['[UNDERLYING_LAST]'] < temp['main']['[STRIKE]']]\n",
    "        temp['main'] = temp['main'][temp['main']['[C_ASK]'] > 0.5]\n",
    "    temp['main'] = temp['main'][temp['main']['[DTE]'] > 5]\n",
    "    temp['main'] = temp['main'][temp['main']['[STRIKE_DISTANCE_PCT]'] >= main_minDistance/2]\n",
    "    if len(temp['main']) < 3:\n",
    "        new_contract = contract_select(select_type='main', date = date, max_spread_pct = 0.05, spy_spx='spx', contract_type = main_type, minAsk=0.2, minDistance = main_minDistance, minDTE=15, moneyness=moneyness, num=2-len(temp['main']))\n",
    "        temp['main'] = temp['main'].append(new_contract['main'])\n",
    "        temp['main']['WEIGHT'] = -1/len(temp['main'])\n",
    "    # drop/wind up certain hedge contracts that meet some criteria\n",
    "    if hedge_type == 'P': temp['hedge'] = temp['hedge'][temp['hedge']['[UNDERLYING_LAST]'] > temp['hedge']['[STRIKE]']]\n",
    "    if hedge_type == 'C': temp['hedge'] = temp['hedge'][temp['hedge']['[UNDERLYING_LAST]'] < temp['hedge']['[STRIKE]']]\n",
    "    temp['hedge'] = temp['hedge'][temp['hedge']['[DTE]'] > 5]\n",
    "    temp['hedge'] = temp['hedge'][temp['hedge']['[STRIKE_DISTANCE_PCT]'] >= hedge_minDistance/2]\n",
    "    if len(temp['hedge']) < 3:\n",
    "        new_contract = contract_select(select_type='hedge', date = date, max_spread_pct = 0.05, spy_spx='spx', contract_type = hedge_type, minAsk=0.2, minDistance = hedge_minDistance, minDTE=15, moneyness=moneyness, num=3-len(temp['hedge']))\n",
    "        temp['hedge'] = temp['hedge'].append(new_contract['hedge'])\n",
    "        temp['hedge']['WEIGHT'] = 1/len(temp['hedge'])\n",
    "        \n",
    "    greek_pnl_daily['adjust_cost'][-1] = position_adj_cost(d, temp)['adjust_cost']\n",
    "    d=copy.deepcopy(temp)"
   ]
  },
  {
   "cell_type": "markdown",
   "id": "fbd6e092-3954-4c82-80a8-241e129f3642",
   "metadata": {
    "tags": []
   },
   "source": [
    "# Wind up position every friday and day before any holiday"
   ]
  },
  {
   "cell_type": "code",
   "execution_count": 3,
   "id": "ffe28465-08e4-496a-ab82-d1b4e8d3ced8",
   "metadata": {
    "tags": []
   },
   "outputs": [],
   "source": [
    "greek_pnl_daily = pd.DataFrame()\n",
    "greek_pnl_daily['daily_pnl'] = 0\n",
    "greek_pnl_daily['adjust_cost'] = 0\n",
    "\n",
    "d = copy.deepcopy(position)\n",
    "d['date'] = starting_date\n",
    "daily = []\n",
    "\n",
    "for i in range(2):\n",
    "    greek_pnl_daily = greek_pnl_daily.append(greek_calc(d))\n",
    "    d = pnl_daily_calc(d)\n",
    "    greek_pnl_daily['daily_pnl'][-1] =  d['daily_rtn']\n",
    "    daily.append(d)\n",
    "    \n",
    "    #if the hedge contracts are all dropped since pnl_daily_calc cannot find the contracts in the next trading day\n",
    "    if len(d['hedge']) == 0:\n",
    "        date = get_next_trading_day(greek_pnl_daily.index[-1], 'spx')\n",
    "        d['hedge'] = contract_select(select_type='hedge', date= date,  max_spread_pct = 0.05, spy_spx='spx', contract_type = hedge_type, minAsk=0.2, minDistance = hedge_minDistance, minDTE=15, moneyness=moneyness, num = 2)['hedge']\n",
    "        d['hedge']['WEIGHT'] = 0\n",
    "        \n",
    "    #if the main contracts are all dropped since pnl_daily_calc cannot find the contracts in the next trading day\n",
    "    if len(d['main']) == 0:\n",
    "        date = get_next_trading_day(greek_pnl_daily.index[-1], 'spx')\n",
    "        d['main'] = contract_select(select_type='main', date= date,  max_spread_pct = 0.05, spy_spx='spx', contract_type = main_type, minAsk=1.0, minDistance = main_minDistance, minDTE=15, moneyness=moneyness, num=3)['main']\n",
    "        d['main']['WEIGHT'] = 0\n",
    "        \n",
    "    temp = copy.deepcopy(hedge_calc(d))\n",
    "    \n",
    "    # drop/wind up certain main contracts that meet some criteria\n",
    "    date = temp['main'].index[0][0]\n",
    "    if main_type == 'P': \n",
    "        temp['main'] = temp['main'][temp['main']['[UNDERLYING_LAST]'] > temp['main']['[STRIKE]']]\n",
    "        temp['main'] = temp['main'][temp['main']['[P_ASK]'] > 0.5]\n",
    "    if main_type == 'C': \n",
    "        temp['main'] = temp['main'][temp['main']['[UNDERLYING_LAST]'] < temp['main']['[STRIKE]']]\n",
    "        temp['main'] = temp['main'][temp['main']['[C_ASK]'] > 0.5]\n",
    "    temp['main'] = temp['main'][temp['main']['[DTE]'] > 5]\n",
    "    temp['main'] = temp['main'][temp['main']['[STRIKE_DISTANCE_PCT]'] >= main_minDistance/2]\n",
    "    if len(temp['main']) < 3:\n",
    "        new_contract = contract_select(select_type='main', date = date, max_spread_pct = 0.05, spy_spx='spx', contract_type = main_type, minAsk=0.2, minDistance = main_minDistance, minDTE=15, moneyness=moneyness, num=2-len(temp['main']))\n",
    "        temp['main'] = temp['main'].append(new_contract['main'])\n",
    "        temp['main']['WEIGHT'] = -1/len(temp['main'])\n",
    "    # drop/wind up certain hedge contracts that meet some criteria\n",
    "    if hedge_type == 'P': temp['hedge'] = temp['hedge'][temp['hedge']['[UNDERLYING_LAST]'] > temp['hedge']['[STRIKE]']]\n",
    "    if hedge_type == 'C': temp['hedge'] = temp['hedge'][temp['hedge']['[UNDERLYING_LAST]'] < temp['hedge']['[STRIKE]']]\n",
    "    temp['hedge'] = temp['hedge'][temp['hedge']['[DTE]'] > 5]\n",
    "    temp['hedge'] = temp['hedge'][temp['hedge']['[STRIKE_DISTANCE_PCT]'] >= hedge_minDistance/2]\n",
    "    if len(temp['hedge']) < 3:\n",
    "        new_contract = contract_select(select_type='hedge', date = date, max_spread_pct = 0.05, spy_spx='spx', contract_type = hedge_type, minAsk=0.2, minDistance = hedge_minDistance, minDTE=15, moneyness=moneyness, num=3-len(temp['hedge']))\n",
    "        temp['hedge'] = temp['hedge'].append(new_contract['hedge'])\n",
    "        temp['hedge']['WEIGHT'] = 1/len(temp['hedge'])\n",
    "        \n",
    "    greek_pnl_daily['adjust_cost'][-1] = position_adj_cost(d, temp)['adjust_cost']\n",
    "    d=copy.deepcopy(temp)"
   ]
  },
  {
   "cell_type": "code",
   "execution_count": null,
   "id": "f9b3a11f-8b59-40cd-8a65-c62d1b18ceab",
   "metadata": {},
   "outputs": [],
   "source": [
    "greek_pnl_daily.to_clipboard()"
   ]
  },
  {
   "cell_type": "code",
   "execution_count": null,
   "id": "a252a07a-7e47-4a22-90fe-94abfefad416",
   "metadata": {},
   "outputs": [],
   "source": [
    "df = daily[-1]['main']\n",
    "df"
   ]
  },
  {
   "cell_type": "code",
   "execution_count": null,
   "id": "c3daa585-00ab-4438-8d58-8f44081016a5",
   "metadata": {},
   "outputs": [],
   "source": [
    "greek_pnl_daily"
   ]
  },
  {
   "cell_type": "code",
   "execution_count": null,
   "id": "49a27aef-e5fa-4ad0-9483-bbf3ae278805",
   "metadata": {},
   "outputs": [],
   "source": [
    "main_original"
   ]
  },
  {
   "cell_type": "code",
   "execution_count": null,
   "id": "bb4e5468-cab2-4d7a-b998-bcaa9d19f2e4",
   "metadata": {},
   "outputs": [],
   "source": [
    "d['main']['WEIGHT']"
   ]
  },
  {
   "cell_type": "code",
   "execution_count": null,
   "id": "5a0449e0-8ac9-4371-a5e7-a5b27055e2ab",
   "metadata": {},
   "outputs": [],
   "source": [
    "nyse_holidays = holidays.financial_holidays('NYSE')"
   ]
  },
  {
   "cell_type": "code",
   "execution_count": null,
   "id": "fcc16c07-0974-4e08-a116-d518fab2a97f",
   "metadata": {},
   "outputs": [],
   "source": [
    "'01/01/2000' in nyse_holidays"
   ]
  },
  {
   "cell_type": "code",
   "execution_count": null,
   "id": "ebae5bed-d9d7-4d2a-8edb-1a03532532ad",
   "metadata": {},
   "outputs": [],
   "source": [
    "date.weekday(date(2018,1,2))"
   ]
  },
  {
   "cell_type": "code",
   "execution_count": 7,
   "id": "8b6b8b10-8866-465e-869c-6e51813f7334",
   "metadata": {},
   "outputs": [
    {
     "ename": "AttributeError",
     "evalue": "'str' object has no attribute 'fromisoformat'",
     "output_type": "error",
     "traceback": [
      "\u001b[1;31m---------------------------------------------------------------------------\u001b[0m",
      "\u001b[1;31mAttributeError\u001b[0m                            Traceback (most recent call last)",
      "Cell \u001b[1;32mIn[7], line 1\u001b[0m\n\u001b[1;32m----> 1\u001b[0m \u001b[43mdate\u001b[49m\u001b[38;5;241;43m.\u001b[39;49m\u001b[43mfromisoformat\u001b[49m(d[\u001b[38;5;124m'\u001b[39m\u001b[38;5;124mdate\u001b[39m\u001b[38;5;124m'\u001b[39m])\n",
      "\u001b[1;31mAttributeError\u001b[0m: 'str' object has no attribute 'fromisoformat'"
     ]
    }
   ],
   "source": [
    "date.fromisoformat(d['date'])"
   ]
  },
  {
   "cell_type": "code",
   "execution_count": null,
   "id": "77235264-e25f-4596-bc68-450ca5cad270",
   "metadata": {},
   "outputs": [],
   "source": []
  }
 ],
 "metadata": {
  "kernelspec": {
   "display_name": "Python 3 (ipykernel)",
   "language": "python",
   "name": "python3"
  },
  "language_info": {
   "codemirror_mode": {
    "name": "ipython",
    "version": 3
   },
   "file_extension": ".py",
   "mimetype": "text/x-python",
   "name": "python",
   "nbconvert_exporter": "python",
   "pygments_lexer": "ipython3",
   "version": "3.10.2"
  }
 },
 "nbformat": 4,
 "nbformat_minor": 5
}
