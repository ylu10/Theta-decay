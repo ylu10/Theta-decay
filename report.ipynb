{
 "cells": [
  {
   "cell_type": "markdown",
   "id": "543cf83c-814b-4f26-b0a3-4305e4d22d17",
   "metadata": {},
   "source": [
    "# report"
   ]
  },
  {
   "cell_type": "code",
   "execution_count": null,
   "id": "82c2acbf-20bd-4b90-b67e-9d4ab18eede7",
   "metadata": {},
   "outputs": [],
   "source": [
    "from scipy.optimize import minimize, LinearConstraint, NonlinearConstraint\n",
    "import numpy as np\n",
    "import pandas as pd\n",
    "import os\n",
    "import warnings\n",
    "warnings.filterwarnings('ignore')\n",
    "from contract_select import contract_select"
   ]
  },
  {
   "cell_type": "code",
   "execution_count": null,
   "id": "78434762-e9aa-445d-af25-fea2a0e089b1",
   "metadata": {
    "jupyter": {
     "source_hidden": true
    },
    "tags": []
   },
   "outputs": [],
   "source": [
    "data= 'spy'\n",
    "date= '20170912'\n",
    "maxDTE: int = 30,\n",
    "minDTE: int = 10,\n",
    "maxDistance: float = 0.2,\n",
    "minDistance: float = 0.08,\n",
    "maxTheta: float = -0.0,\n",
    "minTheta: float = -1.2,\n",
    "contract_type: str = 'C'\n",
    "moneyness = 'out'\n",
    "\n",
    "contract_pd =  pd.read_csv(data+'_cleaned/'+data+'_eod_'+date[:6]+'.csv', \n",
    "                   index_col=['[QUOTE_DATE]','[EXPIRE_DATE]'], skipinitialspace=True)\n",
    "contract_pd = contract_pd.drop(columns='Unnamed: 0')\n",
    "contract_pd = contract_pd.iloc[contract_pd.index.get_level_values('[QUOTE_DATE]')==date[:4]+'-'+date[4:6]+'-'+date[6:]]\n",
    "contract_pd = contract_pd.loc[(contract_pd['[DTE]']>=minDTE) & (contract_pd['[DTE]']<=maxDTE) \n",
    "                & (contract_pd['[STRIKE_DISTANCE_PCT]']>=minDistance) & (contract_pd['[STRIKE_DISTANCE_PCT]']<=maxDistance)]"
   ]
  },
  {
   "cell_type": "code",
   "execution_count": null,
   "id": "00df9174-436a-4e20-b85c-0e2f30101f51",
   "metadata": {
    "tags": []
   },
   "outputs": [],
   "source": [
    "contract_select(selct_type='main', date= '20190913', spy_spx='spx', contract_type='P', minAsk=0.2, minDistance = 0.08)[1]"
   ]
  },
  {
   "cell_type": "code",
   "execution_count": null,
   "id": "5c95c32d-d07c-45dd-9517-f37c7cdf6816",
   "metadata": {},
   "outputs": [],
   "source": [
    "contract_select(selct_type='hedge', date= '20190913', spy_spx='spx', contract_type='P', minAsk=0.2, minDistance = 0.08)[1]"
   ]
  },
  {
   "cell_type": "code",
   "execution_count": null,
   "id": "8f84423c-3433-4ec2-a0dd-cafc391d35da",
   "metadata": {
    "jupyter": {
     "source_hidden": true
    },
    "tags": []
   },
   "outputs": [],
   "source": [
    "import pandas as pd\n",
    "import os\n",
    "\n",
    "def greek_calc(\n",
    "    position: pd.DataFrame = None,\n",
    "    ) ->pd.DataFrame:\n",
    "    \n",
    "\"\"\"\n",
    "return a dataframe containing the current greeks exposure\n",
    "\n",
    "input:\n",
    "position: current position\n",
    "\"\"\"\n",
    "\n",
    "\n",
    "def pnl_calc(\n",
    "    position: pd.DataFrame = None,\n",
    "    ) ->pd.DataFrame:\n",
    "    \n",
    "\"\"\"\n",
    "return a dataframe containing the pnl comparing to last trading day\n",
    "\n",
    "input:\n",
    "position: current position\n",
    "\"\"\"\n"
   ]
  },
  {
   "cell_type": "code",
   "execution_count": null,
   "id": "068432d2-324e-4330-b903-d90d401efe13",
   "metadata": {},
   "outputs": [],
   "source": [
    "df1=contract_select(selct_type='main', date= '20190916', spy_spx='spx', contract_type='P', minAsk=0.2, minDistance = 0.08)\n",
    "df2=contract_select(selct_type='hedge', date= '20190916', spy_spx='spx', contract_type='C', minAsk=0.2, minDistance = 0.03, num=3)"
   ]
  },
  {
   "cell_type": "code",
   "execution_count": null,
   "id": "48afc5df-1a6d-488c-80af-a763435b08fc",
   "metadata": {
    "tags": []
   },
   "outputs": [],
   "source": [
    "import pandas as pd\n",
    "import os\n",
    "\n",
    "def hedge_calc(\n",
    "    main: pd.DataFrame = None,\n",
    "    hedge: pd.DataFrame = None,\n",
    "    main_data: str = None,\n",
    "    hedge_data: str = None\n",
    "    ) ->pd.DataFrame:\n",
    "    \n",
    "    \"\"\"\n",
    "    return a dataframe containing the information of selected contrats\n",
    "    \n",
    "    input:\n",
    "    main: a dataframe containing the main contract to hedge\n",
    "    hedge: a dataframe containing the hedge contract to hedge\n",
    "    main_data: type of contract, spx or spy\n",
    "    hedge_data: type of contract, spx or spy\n",
    "    \"\"\"\n",
    "\n",
    "    if main_data == 'spy':\n",
    "        columns = main.filter(regex='DELTA').columns\n",
    "        main[columns] = main[columns]/10\n",
    "        # columns = main.filter(regex='GAMMA').columns\n",
    "        # main[columns] = main[columns]/10\n",
    "        # columns = main.filter(regex='THETA').columns\n",
    "        # main[columns] = main[columns]*10\n",
    "    if hedge_data == 'spy':\n",
    "        columns = hedge.filter(regex='DELTA').columns\n",
    "        hedge[columns] = hedge[columns]/10\n",
    "        # columns = main.filter(regex='GAMMA').columns\n",
    "        # hedge[columns] = hedge[columns]/10\n",
    "        # columns = hedge.filter(regex='THETA').columns\n",
    "        # hedge[columns] = hedge[columns]*10\n",
    "    \n",
    "    # Extract columns whose names contain the desired string\n",
    "    desired_string = ['GAMMA', 'VEGA', 'THETA']\n",
    "    main_filtered_columns = []\n",
    "    hedge_filtered_columns = []\n",
    "    for i in desired_string:\n",
    "        main_filtered_columns.append([col for col in main.columns if i in col])\n",
    "        hedge_filtered_columns.append([col for col in hedge.columns if i in col])\n",
    "        \n",
    "    #flatten the column list\n",
    "    main_filtered_columns=sum(main_filtered_columns,[])\n",
    "    hedge_filtered_columns= sum(hedge_filtered_columns,[])\n",
    "    main_mean = main[main_filtered_columns].values.mean(axis=0)\n",
    "    main_mean_target = main_mean.copy()\n",
    "    main_mean_target[-1] = 0\n",
    "    \n",
    "    def fun(x):\n",
    "        # x = np.array(x)\n",
    "        utility = np.absolute(x.dot(hedge[hedge_filtered_columns].values) - main_mean_target)\n",
    "        #add weights to the residual greeks after hedging \n",
    "        utility = utility * np.array([[50],[1],[10]])\n",
    "        r=np.sum(utility)\n",
    "        return r\n",
    "    \n",
    "    def fun1(x):\n",
    "        greeks = x.dot(hedge[hedge_filtered_columns].values) - main_mean\n",
    "        return greeks\n",
    "\n",
    "    constraint1 = LinearConstraint(np.array(hedge[hedge_filtered_columns[-1]].values), lb= main_mean[-1]*0.2, ub=[np.inf])\n",
    "    constraint2 = NonlinearConstraint(lambda x: np.sum(np.absolute(x)), lb=0, ub=1, keep_feasible=True)\n",
    "    constraint3 = LinearConstraint(np.array(hedge[hedge_filtered_columns[0]].values), lb = main_mean_target[0] - abs(main_mean_target[0])*0.2, ub = main_mean_target[0] + abs(main_mean_target[0])*0.2)\n",
    "    constraint4 = LinearConstraint(np.array(hedge[hedge_filtered_columns[1]].values), keep_feasible=True, lb= main_mean_target[1] - abs(main_mean_target[1])*0.2, ub = main_mean_target[1] + abs(main_mean_target[1])*0.2)\n",
    "    \n",
    "    x0 = [min(0.1/len(hedge),main_mean[1]/(hedge[hedge_filtered_columns[1]].mean()*len(hedge)))]*len(hedge)\n",
    "    result = minimize(fun, x0, method='trust-constr', options={'maxiter':1000}, tol=1e-6)\n",
    "    hedge['weight'] = result.x\n",
    "    main['weight'] = -1/len(main)\n",
    "    \n",
    "    x=result.x\n",
    "    \n",
    "    return main_mean, main,result,fun1(x),hedge,np.sum(np.absolute(x)),x.sum()"
   ]
  },
  {
   "cell_type": "code",
   "execution_count": null,
   "id": "71910cac-b6be-4e73-ac77-ef46f51bc7fe",
   "metadata": {},
   "outputs": [],
   "source": [
    "x=np.array([ 0.00762753, -0.42346308,  0.04095649])"
   ]
  },
  {
   "cell_type": "code",
   "execution_count": null,
   "id": "07e1423b-ce08-42e1-8c2a-fe666505ad38",
   "metadata": {},
   "outputs": [],
   "source": [
    "np.dot(np.array([[0.1],[1],[0]]),np.array([[50,1,10]]))"
   ]
  },
  {
   "cell_type": "code",
   "execution_count": null,
   "id": "2ef3febf-3938-4410-b41a-99186161c2cf",
   "metadata": {},
   "outputs": [],
   "source": [
    "df2[1]"
   ]
  },
  {
   "cell_type": "code",
   "execution_count": null,
   "id": "a5a2ee6f-6b0e-4bbe-a85a-5584977ad9f5",
   "metadata": {},
   "outputs": [],
   "source": [
    "hedge_calc(df1[1],df2[1],df1[0][:3],df2[0][:3])"
   ]
  },
  {
   "cell_type": "code",
   "execution_count": null,
   "id": "2a5d4359-3a65-4045-92d0-00d4b0e7e5d1",
   "metadata": {},
   "outputs": [],
   "source": [
    "2019-09-13   2019-10-11    -1442.734220       \n",
    "              2019-10-11    -1329.637396      \n",
    "              2019-10-11    -1279.082407     "
   ]
  },
  {
   "cell_type": "code",
   "execution_count": null,
   "id": "9a4d2792-5dea-4039-9c70-a429a0c5b1bb",
   "metadata": {},
   "outputs": [],
   "source": [
    "np.array([0.00789847, -0.41962886, -0.04234271]).dot(np.array([0.00838, 0.00769, 0.00590]))"
   ]
  },
  {
   "cell_type": "code",
   "execution_count": null,
   "id": "fa6ef393-f2f6-47ab-94f2-d2917cf28ecc",
   "metadata": {},
   "outputs": [],
   "source": [
    "0.00789847*0.00838+-0.41962886*0.00769-0.04234271*0.00590"
   ]
  },
  {
   "cell_type": "code",
   "execution_count": null,
   "id": "0276ec75-46e0-496b-8ffc-cd82c0f88c21",
   "metadata": {},
   "outputs": [],
   "source": [
    "def fun(x):\n",
    "    x = np.array(x)\n",
    "    utility = np.absolute(x.dot(np.array([[0.008, 1.07542,-0.37072],[0.00071,0.98295,-0.34664],[0.0007,1.04561,-0.36438]]))-np.array([.0004,0.51869,0]))\n",
    "    utility1 = utility \\\n",
    "        * np.array([[50],[1],[10]])\n",
    "    r=np.sum(utility1)*10\n",
    "    return r\n",
    "\n",
    "def fun1(x):\n",
    "    x = np.array(x)\n",
    "    utility = np.absolute(x.dot(np.array([[0.008, 1.07542,-0.37072],[0.00071,0.98295,-0.34664],[0.0007,1.04561,-0.36438]]))-np.array([.0004,0.51869,0]))\n",
    "    utility1 = utility * np.array([[1e2],[1],[10000]])\n",
    "    return utility\n",
    "\n",
    "constraint1 = LinearConstraint(np.array([-0.37072, -0.34664, -0.36438]), lb=-0.05, ub=0.05)\n",
    "constraint2 = NonlinearConstraint(lambda x: np.sum(np.absolute(x)), lb=0, ub=1)\n",
    "constraint3 = LinearConstraint(np.array([0.008, 0.00071, 0.0007]), lb=0.0004-0.0004*0.5, ub=0.0004+0.004*0.5)\n",
    "constraint4 = LinearConstraint(np.array([1.07542, 0.98295, 1.04561]), lb=0.57869-0.57869*0.5, ub=0.57869+0.57869*0.5)\n",
    "\n",
    "x0 = [-0.1,0.1,0.1]\n",
    "result = minimize(fun, x0, method='trust-constr', options={'maxiter':1000}, constraints={constraint1,constraint2,constraint3,constraint4}, tol=1e-4)"
   ]
  },
  {
   "cell_type": "code",
   "execution_count": null,
   "id": "7f7e386c-14b9-43d3-ad53-b1eb61c1fd08",
   "metadata": {},
   "outputs": [],
   "source": [
    "x=result.x\n",
    "fun1(x)"
   ]
  }
 ],
 "metadata": {
  "kernelspec": {
   "display_name": "Python 3 (ipykernel)",
   "language": "python",
   "name": "python3"
  },
  "language_info": {
   "codemirror_mode": {
    "name": "ipython",
    "version": 3
   },
   "file_extension": ".py",
   "mimetype": "text/x-python",
   "name": "python",
   "nbconvert_exporter": "python",
   "pygments_lexer": "ipython3",
   "version": "3.10.2"
  }
 },
 "nbformat": 4,
 "nbformat_minor": 5
}
