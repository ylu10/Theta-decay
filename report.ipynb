{
 "cells": [
  {
   "cell_type": "markdown",
   "id": "543cf83c-814b-4f26-b0a3-4305e4d22d17",
   "metadata": {},
   "source": [
    "# report"
   ]
  },
  {
   "cell_type": "code",
   "execution_count": null,
   "id": "82c2acbf-20bd-4b90-b67e-9d4ab18eede7",
   "metadata": {},
   "outputs": [],
   "source": [
    "import numpy as np\n",
    "import pandas as pd\n",
    "import os\n",
    "import warnings\n",
    "warnings.filterwarnings('ignore')\n",
    "from contract_select import contract_select\n",
    "from hedge_calc import hedge_calc\n",
    "from greek_calc import greek_calc, pnl_daily_calc\n",
    "from position_adj_cost import position_adj_cost"
   ]
  },
  {
   "cell_type": "code",
   "execution_count": null,
   "id": "05eb6ab3-fb58-4b0f-923e-09c55b1adf1e",
   "metadata": {},
   "outputs": [],
   "source": [
    "main_original = contract_select(select_type='main', date= '20101222', spy_spx='spx', contract_type='C', minAsk=0.2, minDistance = 0.03, maxDTE=15, num=3)\n",
    "hedge_original = contract_select(select_type='hedge', date= '20101222', spy_spx='spx', contract_type='P', minAsk=0.2, minDistance = 0.06, num=4)\n",
    "main_original.update(hedge_original)\n",
    "main_original"
   ]
  },
  {
   "cell_type": "code",
   "execution_count": null,
   "id": "72c86d2f-c14b-4d81-9f6c-2cc24f8e867f",
   "metadata": {},
   "outputs": [],
   "source": [
    "d = hedge_calc(main_original)\n",
    "d"
   ]
  },
  {
   "cell_type": "code",
   "execution_count": null,
   "id": "e64cfb7d-11e5-40e8-b651-46a1506d9ec2",
   "metadata": {},
   "outputs": [],
   "source": [
    "for i in range(20):\n",
    "    d = hedge_calc(d)\n",
    "    d = pnl_daily_calc(d)\n",
    "    print(d['daily_rtn'])"
   ]
  }
 ],
 "metadata": {
  "kernelspec": {
   "display_name": "Python 3 (ipykernel)",
   "language": "python",
   "name": "python3"
  },
  "language_info": {
   "codemirror_mode": {
    "name": "ipython",
    "version": 3
   },
   "file_extension": ".py",
   "mimetype": "text/x-python",
   "name": "python",
   "nbconvert_exporter": "python",
   "pygments_lexer": "ipython3",
   "version": "3.10.2"
  }
 },
 "nbformat": 4,
 "nbformat_minor": 5
}
