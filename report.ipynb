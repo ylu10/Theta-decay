{
 "cells": [
  {
   "cell_type": "markdown",
   "id": "543cf83c-814b-4f26-b0a3-4305e4d22d17",
   "metadata": {},
   "source": [
    "# report"
   ]
  },
  {
   "cell_type": "code",
   "execution_count": null,
   "id": "82c2acbf-20bd-4b90-b67e-9d4ab18eede7",
   "metadata": {},
   "outputs": [],
   "source": [
    "import warnings\n",
    "warnings.filterwarnings('ignore')\n",
    "import numpy as np\n",
    "import pandas as pd\n",
    "import os\n",
    "import copy\n",
    "from contract_select import contract_select\n",
    "from hedge_calc import hedge_calc\n",
    "from greek_calc import greek_calc, pnl_daily_calc\n",
    "from position_adj_cost import position_adj_cost"
   ]
  },
  {
   "cell_type": "code",
   "execution_count": null,
   "id": "ad5e29e4-ba62-4fdc-883c-2b2e0e6c5446",
   "metadata": {},
   "outputs": [],
   "source": [
    "main_original = contract_select(select_type='main', date= '2015-12-10', spy_spx='spx', contract_type='P', minAsk=0.2, minDistance = 0.08, minDTE=15, num=3)\n",
    "hedge_original = contract_select(select_type='hedge', date= '2015-12-10', spy_spx='spx', contract_type='P', minAsk=0.2, minDistance = 0.06, minDTE=15, num=3)\n",
    "main_original.update(hedge_original)\n",
    "\n",
    "position = hedge_calc(main_original)\n",
    "\n",
    "position_initial = copy.deepcopy(position)\n",
    "position_initial['main']['WEIGHT'] = position_initial['main']['WEIGHT'] * 2\n",
    "position_initial['hedge']['WEIGHT'] = position_initial['hedge']['WEIGHT'] * 2\n",
    "position_initial['emini']['WEIGHT'] = position_initial['emini']['WEIGHT'] * 2\n",
    "position_adj_cost(position, position_initial)"
   ]
  },
  {
   "cell_type": "code",
   "execution_count": null,
   "id": "4beb2041-c872-4af6-a24b-feb85551ff95",
   "metadata": {},
   "outputs": [],
   "source": [
    "greek_pnl_daily = pd.DataFrame()\n",
    "greek_pnl_daily['daily_pnl'] = 0\n",
    "greek_pnl_daily['adjust_cost'] = 1\n",
    "\n",
    "d = copy.deepcopy(position)\n",
    "daily = []\n",
    "for i in range(20):\n",
    "    try:\n",
    "        greek_pnl_daily = greek_pnl_daily.append(greek_calc(d))\n",
    "        d = copy.deepcopy(pnl_daily_calc(d))\n",
    "        greek_pnl_daily['daily_pnl'][-1] =  d['daily_rtn']\n",
    "        daily.append(d)\n",
    "        print(d['main'].index[0][0], d['main']['[DTE]'][0], d['daily_rtn'])\n",
    "        temp = copy.deepcopy(hedge_calc(d))\n",
    "        greek_pnl_daily['adjust_cost'][-1] = position_adj_cost(d, temp)['adjust_cost']\n",
    "        d=copy.deepcopy(temp)\n",
    "    except: break"
   ]
  },
  {
   "cell_type": "code",
   "execution_count": null,
   "id": "7f0ef3de-6e6d-4cd4-935a-5f30c172567b",
   "metadata": {},
   "outputs": [],
   "source": [
    "greek_pnl_daily"
   ]
  }
 ],
 "metadata": {
  "kernelspec": {
   "display_name": "Python 3 (ipykernel)",
   "language": "python",
   "name": "python3"
  },
  "language_info": {
   "codemirror_mode": {
    "name": "ipython",
    "version": 3
   },
   "file_extension": ".py",
   "mimetype": "text/x-python",
   "name": "python",
   "nbconvert_exporter": "python",
   "pygments_lexer": "ipython3",
   "version": "3.10.2"
  }
 },
 "nbformat": 4,
 "nbformat_minor": 5
}
