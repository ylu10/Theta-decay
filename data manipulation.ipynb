{
 "cells": [
  {
   "cell_type": "markdown",
   "id": "543cf83c-814b-4f26-b0a3-4305e4d22d17",
   "metadata": {},
   "source": [
    "# Data exploration"
   ]
  },
  {
   "cell_type": "code",
   "execution_count": 69,
   "id": "82c2acbf-20bd-4b90-b67e-9d4ab18eede7",
   "metadata": {},
   "outputs": [],
   "source": [
    "import pandas as pd\n",
    "import os\n",
    "import warnings\n",
    "warnings.filterwarnings('ignore')"
   ]
  },
  {
   "cell_type": "code",
   "execution_count": 51,
   "id": "7ff6ddb7-3daa-420d-85d3-902513ef10aa",
   "metadata": {},
   "outputs": [],
   "source": [
    "file_list=['spy/'+i for i in os.listdir('spy')]"
   ]
  },
  {
   "cell_type": "code",
   "execution_count": 52,
   "id": "50c365fa-3624-4186-9106-d5bbd9feeddb",
   "metadata": {},
   "outputs": [],
   "source": [
    "sample = pd.read_csv(file_list[0])"
   ]
  },
  {
   "cell_type": "code",
   "execution_count": 53,
   "id": "2f00afb6-7cac-4b59-9d21-c89fec43795f",
   "metadata": {},
   "outputs": [
    {
     "data": {
      "text/html": [
       "<div>\n",
       "<style scoped>\n",
       "    .dataframe tbody tr th:only-of-type {\n",
       "        vertical-align: middle;\n",
       "    }\n",
       "\n",
       "    .dataframe tbody tr th {\n",
       "        vertical-align: top;\n",
       "    }\n",
       "\n",
       "    .dataframe thead th {\n",
       "        text-align: right;\n",
       "    }\n",
       "</style>\n",
       "<table border=\"1\" class=\"dataframe\">\n",
       "  <thead>\n",
       "    <tr style=\"text-align: right;\">\n",
       "      <th></th>\n",
       "      <th>[QUOTE_UNIXTIME]</th>\n",
       "      <th>[QUOTE_READTIME]</th>\n",
       "      <th>[QUOTE_DATE]</th>\n",
       "      <th>[QUOTE_TIME_HOURS]</th>\n",
       "      <th>[UNDERLYING_LAST]</th>\n",
       "      <th>[EXPIRE_DATE]</th>\n",
       "      <th>[EXPIRE_UNIX]</th>\n",
       "      <th>[DTE]</th>\n",
       "      <th>[C_DELTA]</th>\n",
       "      <th>[C_GAMMA]</th>\n",
       "      <th>...</th>\n",
       "      <th>[P_LAST]</th>\n",
       "      <th>[P_DELTA]</th>\n",
       "      <th>[P_GAMMA]</th>\n",
       "      <th>[P_VEGA]</th>\n",
       "      <th>[P_THETA]</th>\n",
       "      <th>[P_RHO]</th>\n",
       "      <th>[P_IV]</th>\n",
       "      <th>[P_VOLUME]</th>\n",
       "      <th>[STRIKE_DISTANCE]</th>\n",
       "      <th>[STRIKE_DISTANCE_PCT]</th>\n",
       "    </tr>\n",
       "  </thead>\n",
       "  <tbody>\n",
       "    <tr>\n",
       "      <th>0</th>\n",
       "      <td>1378238400</td>\n",
       "      <td>2013-09-03 16:00</td>\n",
       "      <td>2013-09-03</td>\n",
       "      <td>16.0</td>\n",
       "      <td>164.34</td>\n",
       "      <td>2013-09-06</td>\n",
       "      <td>1378497600</td>\n",
       "      <td>3.00</td>\n",
       "      <td>1.000000</td>\n",
       "      <td>0.000000</td>\n",
       "      <td>...</td>\n",
       "      <td>0.000000</td>\n",
       "      <td>-0.001900</td>\n",
       "      <td>0.000460</td>\n",
       "      <td>0.001270</td>\n",
       "      <td>-0.003840</td>\n",
       "      <td>0.000000</td>\n",
       "      <td>0.643160</td>\n",
       "      <td></td>\n",
       "      <td>29.3</td>\n",
       "      <td>0.179</td>\n",
       "    </tr>\n",
       "    <tr>\n",
       "      <th>1</th>\n",
       "      <td>1378238400</td>\n",
       "      <td>2013-09-03 16:00</td>\n",
       "      <td>2013-09-03</td>\n",
       "      <td>16.0</td>\n",
       "      <td>164.34</td>\n",
       "      <td>2013-09-06</td>\n",
       "      <td>1378497600</td>\n",
       "      <td>3.00</td>\n",
       "      <td>1.000000</td>\n",
       "      <td>0.000000</td>\n",
       "      <td>...</td>\n",
       "      <td>0.000000</td>\n",
       "      <td>-0.001130</td>\n",
       "      <td>0.000500</td>\n",
       "      <td>0.000830</td>\n",
       "      <td>-0.004090</td>\n",
       "      <td>0.000000</td>\n",
       "      <td>0.631860</td>\n",
       "      <td></td>\n",
       "      <td>28.8</td>\n",
       "      <td>0.175</td>\n",
       "    </tr>\n",
       "    <tr>\n",
       "      <th>2</th>\n",
       "      <td>1378238400</td>\n",
       "      <td>2013-09-03 16:00</td>\n",
       "      <td>2013-09-03</td>\n",
       "      <td>16.0</td>\n",
       "      <td>164.34</td>\n",
       "      <td>2013-09-06</td>\n",
       "      <td>1378497600</td>\n",
       "      <td>3.00</td>\n",
       "      <td>0.992500</td>\n",
       "      <td>0.001610</td>\n",
       "      <td>...</td>\n",
       "      <td>0.000000</td>\n",
       "      <td>-0.001890</td>\n",
       "      <td>0.000530</td>\n",
       "      <td>0.000610</td>\n",
       "      <td>-0.004340</td>\n",
       "      <td>0.000000</td>\n",
       "      <td>0.620190</td>\n",
       "      <td></td>\n",
       "      <td>28.3</td>\n",
       "      <td>0.172</td>\n",
       "    </tr>\n",
       "    <tr>\n",
       "      <th>3</th>\n",
       "      <td>1378238400</td>\n",
       "      <td>2013-09-03 16:00</td>\n",
       "      <td>2013-09-03</td>\n",
       "      <td>16.0</td>\n",
       "      <td>164.34</td>\n",
       "      <td>2013-09-06</td>\n",
       "      <td>1378497600</td>\n",
       "      <td>3.00</td>\n",
       "      <td>0.955200</td>\n",
       "      <td>0.005090</td>\n",
       "      <td>...</td>\n",
       "      <td>0.000000</td>\n",
       "      <td>-0.001480</td>\n",
       "      <td>0.000490</td>\n",
       "      <td>0.000660</td>\n",
       "      <td>-0.004090</td>\n",
       "      <td>-0.000160</td>\n",
       "      <td>0.609250</td>\n",
       "      <td></td>\n",
       "      <td>27.8</td>\n",
       "      <td>0.169</td>\n",
       "    </tr>\n",
       "    <tr>\n",
       "      <th>4</th>\n",
       "      <td>1378238400</td>\n",
       "      <td>2013-09-03 16:00</td>\n",
       "      <td>2013-09-03</td>\n",
       "      <td>16.0</td>\n",
       "      <td>164.34</td>\n",
       "      <td>2013-09-06</td>\n",
       "      <td>1378497600</td>\n",
       "      <td>3.00</td>\n",
       "      <td>0.958500</td>\n",
       "      <td>0.005010</td>\n",
       "      <td>...</td>\n",
       "      <td>0.000000</td>\n",
       "      <td>-0.001640</td>\n",
       "      <td>0.000500</td>\n",
       "      <td>0.000640</td>\n",
       "      <td>-0.003740</td>\n",
       "      <td>0.000000</td>\n",
       "      <td>0.598860</td>\n",
       "      <td></td>\n",
       "      <td>27.3</td>\n",
       "      <td>0.166</td>\n",
       "    </tr>\n",
       "    <tr>\n",
       "      <th>...</th>\n",
       "      <td>...</td>\n",
       "      <td>...</td>\n",
       "      <td>...</td>\n",
       "      <td>...</td>\n",
       "      <td>...</td>\n",
       "      <td>...</td>\n",
       "      <td>...</td>\n",
       "      <td>...</td>\n",
       "      <td>...</td>\n",
       "      <td>...</td>\n",
       "      <td>...</td>\n",
       "      <td>...</td>\n",
       "      <td>...</td>\n",
       "      <td>...</td>\n",
       "      <td>...</td>\n",
       "      <td>...</td>\n",
       "      <td>...</td>\n",
       "      <td>...</td>\n",
       "      <td>...</td>\n",
       "      <td>...</td>\n",
       "      <td>...</td>\n",
       "    </tr>\n",
       "    <tr>\n",
       "      <th>29510</th>\n",
       "      <td>1380571200</td>\n",
       "      <td>2013-09-30 16:00</td>\n",
       "      <td>2013-09-30</td>\n",
       "      <td>16.0</td>\n",
       "      <td>167.99</td>\n",
       "      <td>2015-12-19</td>\n",
       "      <td>1450558800</td>\n",
       "      <td>810.04</td>\n",
       "      <td>0.111160</td>\n",
       "      <td>0.004110</td>\n",
       "      <td>...</td>\n",
       "      <td>0.000000</td>\n",
       "      <td>-0.964860</td>\n",
       "      <td>0.000000</td>\n",
       "      <td>0.000000</td>\n",
       "      <td>-0.006530</td>\n",
       "      <td>-5.216610</td>\n",
       "      <td>0.000050</td>\n",
       "      <td></td>\n",
       "      <td>67.0</td>\n",
       "      <td>0.399</td>\n",
       "    </tr>\n",
       "    <tr>\n",
       "      <th>29511</th>\n",
       "      <td>1380571200</td>\n",
       "      <td>2013-09-30 16:00</td>\n",
       "      <td>2013-09-30</td>\n",
       "      <td>16.0</td>\n",
       "      <td>167.99</td>\n",
       "      <td>2015-12-19</td>\n",
       "      <td>1450558800</td>\n",
       "      <td>810.04</td>\n",
       "      <td>0.112980</td>\n",
       "      <td>0.003920</td>\n",
       "      <td>...</td>\n",
       "      <td>0.000000</td>\n",
       "      <td>-0.965660</td>\n",
       "      <td>0.000000</td>\n",
       "      <td>0.000000</td>\n",
       "      <td>-0.006930</td>\n",
       "      <td>-5.327630</td>\n",
       "      <td>0.000470</td>\n",
       "      <td></td>\n",
       "      <td>72.0</td>\n",
       "      <td>0.429</td>\n",
       "    </tr>\n",
       "    <tr>\n",
       "      <th>29512</th>\n",
       "      <td>1380571200</td>\n",
       "      <td>2013-09-30 16:00</td>\n",
       "      <td>2013-09-30</td>\n",
       "      <td>16.0</td>\n",
       "      <td>167.99</td>\n",
       "      <td>2015-12-19</td>\n",
       "      <td>1450558800</td>\n",
       "      <td>810.04</td>\n",
       "      <td>0.095330</td>\n",
       "      <td>0.003520</td>\n",
       "      <td>...</td>\n",
       "      <td>0.000000</td>\n",
       "      <td>-0.964840</td>\n",
       "      <td>0.000000</td>\n",
       "      <td>0.000000</td>\n",
       "      <td>-0.006640</td>\n",
       "      <td>-5.439200</td>\n",
       "      <td>-0.000250</td>\n",
       "      <td></td>\n",
       "      <td>77.0</td>\n",
       "      <td>0.458</td>\n",
       "    </tr>\n",
       "    <tr>\n",
       "      <th>29513</th>\n",
       "      <td>1380571200</td>\n",
       "      <td>2013-09-30 16:00</td>\n",
       "      <td>2013-09-30</td>\n",
       "      <td>16.0</td>\n",
       "      <td>167.99</td>\n",
       "      <td>2015-12-19</td>\n",
       "      <td>1450558800</td>\n",
       "      <td>810.04</td>\n",
       "      <td>0.111750</td>\n",
       "      <td>0.003560</td>\n",
       "      <td>...</td>\n",
       "      <td>0.000000</td>\n",
       "      <td>-0.965280</td>\n",
       "      <td>0.000000</td>\n",
       "      <td>0.000000</td>\n",
       "      <td>-0.007190</td>\n",
       "      <td>-5.549450</td>\n",
       "      <td>-0.000080</td>\n",
       "      <td></td>\n",
       "      <td>82.0</td>\n",
       "      <td>0.488</td>\n",
       "    </tr>\n",
       "    <tr>\n",
       "      <th>29514</th>\n",
       "      <td>1380571200</td>\n",
       "      <td>2013-09-30 16:00</td>\n",
       "      <td>2013-09-30</td>\n",
       "      <td>16.0</td>\n",
       "      <td>167.99</td>\n",
       "      <td>2015-12-19</td>\n",
       "      <td>1450558800</td>\n",
       "      <td>810.04</td>\n",
       "      <td>0.020680</td>\n",
       "      <td>0.001370</td>\n",
       "      <td>...</td>\n",
       "      <td>92.690000</td>\n",
       "      <td>-0.964680</td>\n",
       "      <td>0.000000</td>\n",
       "      <td>0.000000</td>\n",
       "      <td>-0.006650</td>\n",
       "      <td>-5.660920</td>\n",
       "      <td>-0.000450</td>\n",
       "      <td>3.000000</td>\n",
       "      <td>87.0</td>\n",
       "      <td>0.518</td>\n",
       "    </tr>\n",
       "  </tbody>\n",
       "</table>\n",
       "<p>29515 rows × 33 columns</p>\n",
       "</div>"
      ],
      "text/plain": [
       "       [QUOTE_UNIXTIME]   [QUOTE_READTIME]  [QUOTE_DATE]   [QUOTE_TIME_HOURS]  \\\n",
       "0            1378238400   2013-09-03 16:00    2013-09-03                 16.0   \n",
       "1            1378238400   2013-09-03 16:00    2013-09-03                 16.0   \n",
       "2            1378238400   2013-09-03 16:00    2013-09-03                 16.0   \n",
       "3            1378238400   2013-09-03 16:00    2013-09-03                 16.0   \n",
       "4            1378238400   2013-09-03 16:00    2013-09-03                 16.0   \n",
       "...                 ...                ...           ...                  ...   \n",
       "29510        1380571200   2013-09-30 16:00    2013-09-30                 16.0   \n",
       "29511        1380571200   2013-09-30 16:00    2013-09-30                 16.0   \n",
       "29512        1380571200   2013-09-30 16:00    2013-09-30                 16.0   \n",
       "29513        1380571200   2013-09-30 16:00    2013-09-30                 16.0   \n",
       "29514        1380571200   2013-09-30 16:00    2013-09-30                 16.0   \n",
       "\n",
       "        [UNDERLYING_LAST]  [EXPIRE_DATE]   [EXPIRE_UNIX]   [DTE]  [C_DELTA]  \\\n",
       "0                  164.34     2013-09-06      1378497600    3.00   1.000000   \n",
       "1                  164.34     2013-09-06      1378497600    3.00   1.000000   \n",
       "2                  164.34     2013-09-06      1378497600    3.00   0.992500   \n",
       "3                  164.34     2013-09-06      1378497600    3.00   0.955200   \n",
       "4                  164.34     2013-09-06      1378497600    3.00   0.958500   \n",
       "...                   ...            ...             ...     ...        ...   \n",
       "29510              167.99     2015-12-19      1450558800  810.04   0.111160   \n",
       "29511              167.99     2015-12-19      1450558800  810.04   0.112980   \n",
       "29512              167.99     2015-12-19      1450558800  810.04   0.095330   \n",
       "29513              167.99     2015-12-19      1450558800  810.04   0.111750   \n",
       "29514              167.99     2015-12-19      1450558800  810.04   0.020680   \n",
       "\n",
       "       [C_GAMMA]  ...    [P_LAST]   [P_DELTA]  [P_GAMMA]   [P_VEGA]  \\\n",
       "0       0.000000  ...    0.000000   -0.001900   0.000460   0.001270   \n",
       "1       0.000000  ...    0.000000   -0.001130   0.000500   0.000830   \n",
       "2       0.001610  ...    0.000000   -0.001890   0.000530   0.000610   \n",
       "3       0.005090  ...    0.000000   -0.001480   0.000490   0.000660   \n",
       "4       0.005010  ...    0.000000   -0.001640   0.000500   0.000640   \n",
       "...          ...  ...         ...         ...        ...        ...   \n",
       "29510   0.004110  ...    0.000000   -0.964860   0.000000   0.000000   \n",
       "29511   0.003920  ...    0.000000   -0.965660   0.000000   0.000000   \n",
       "29512   0.003520  ...    0.000000   -0.964840   0.000000   0.000000   \n",
       "29513   0.003560  ...    0.000000   -0.965280   0.000000   0.000000   \n",
       "29514   0.001370  ...   92.690000   -0.964680   0.000000   0.000000   \n",
       "\n",
       "        [P_THETA]     [P_RHO]      [P_IV]  [P_VOLUME]  [STRIKE_DISTANCE]  \\\n",
       "0       -0.003840    0.000000    0.643160                           29.3   \n",
       "1       -0.004090    0.000000    0.631860                           28.8   \n",
       "2       -0.004340    0.000000    0.620190                           28.3   \n",
       "3       -0.004090   -0.000160    0.609250                           27.8   \n",
       "4       -0.003740    0.000000    0.598860                           27.3   \n",
       "...           ...         ...         ...         ...                ...   \n",
       "29510   -0.006530   -5.216610    0.000050                           67.0   \n",
       "29511   -0.006930   -5.327630    0.000470                           72.0   \n",
       "29512   -0.006640   -5.439200   -0.000250                           77.0   \n",
       "29513   -0.007190   -5.549450   -0.000080                           82.0   \n",
       "29514   -0.006650   -5.660920   -0.000450    3.000000               87.0   \n",
       "\n",
       "        [STRIKE_DISTANCE_PCT]  \n",
       "0                       0.179  \n",
       "1                       0.175  \n",
       "2                       0.172  \n",
       "3                       0.169  \n",
       "4                       0.166  \n",
       "...                       ...  \n",
       "29510                   0.399  \n",
       "29511                   0.429  \n",
       "29512                   0.458  \n",
       "29513                   0.488  \n",
       "29514                   0.518  \n",
       "\n",
       "[29515 rows x 33 columns]"
      ]
     },
     "execution_count": 53,
     "metadata": {},
     "output_type": "execute_result"
    }
   ],
   "source": [
    "sample"
   ]
  },
  {
   "cell_type": "code",
   "execution_count": 54,
   "id": "7d24d2d9-913f-40b1-b3b5-b3f9e73d8dc5",
   "metadata": {},
   "outputs": [
    {
     "data": {
      "text/plain": [
       "Index(['[QUOTE_UNIXTIME]', ' [QUOTE_READTIME]', ' [QUOTE_DATE]',\n",
       "       ' [QUOTE_TIME_HOURS]', ' [UNDERLYING_LAST]', ' [EXPIRE_DATE]',\n",
       "       ' [EXPIRE_UNIX]', ' [DTE]', ' [C_DELTA]', ' [C_GAMMA]', ' [C_VEGA]',\n",
       "       ' [C_THETA]', ' [C_RHO]', ' [C_IV]', ' [C_VOLUME]', ' [C_LAST]',\n",
       "       ' [C_SIZE]', ' [C_BID]', ' [C_ASK]', ' [STRIKE]', ' [P_BID]',\n",
       "       ' [P_ASK]', ' [P_SIZE]', ' [P_LAST]', ' [P_DELTA]', ' [P_GAMMA]',\n",
       "       ' [P_VEGA]', ' [P_THETA]', ' [P_RHO]', ' [P_IV]', ' [P_VOLUME]',\n",
       "       ' [STRIKE_DISTANCE]', ' [STRIKE_DISTANCE_PCT]'],\n",
       "      dtype='object')"
      ]
     },
     "execution_count": 54,
     "metadata": {},
     "output_type": "execute_result"
    }
   ],
   "source": [
    "sample.columns"
   ]
  },
  {
   "cell_type": "code",
   "execution_count": 5,
   "id": "628f26af-3bbe-4685-90a2-12de6901bf11",
   "metadata": {},
   "outputs": [
    {
     "data": {
      "text/plain": [
       "29515"
      ]
     },
     "execution_count": 5,
     "metadata": {},
     "output_type": "execute_result"
    }
   ],
   "source": [
    "sample[' [P_THETA]'].count()"
   ]
  },
  {
   "cell_type": "code",
   "execution_count": 6,
   "id": "7f0715c9-7687-4069-953c-d934d26aefc5",
   "metadata": {},
   "outputs": [
    {
     "data": {
      "text/plain": [
       "5653"
      ]
     },
     "execution_count": 6,
     "metadata": {},
     "output_type": "execute_result"
    }
   ],
   "source": [
    "sample_dropna=sample[' [P_THETA]'].value_counts().dropna()\n",
    "sample_dropna.count()"
   ]
  },
  {
   "cell_type": "code",
   "execution_count": 7,
   "id": "75afec37-31cb-4a89-912e-cc9c44738f81",
   "metadata": {},
   "outputs": [],
   "source": [
    "sample_dropna=sample_dropna[2:]"
   ]
  },
  {
   "cell_type": "code",
   "execution_count": 8,
   "id": "867abbb4-4981-44b4-b610-5cc216fbfc95",
   "metadata": {},
   "outputs": [
    {
     "data": {
      "text/plain": [
       "5651"
      ]
     },
     "execution_count": 8,
     "metadata": {},
     "output_type": "execute_result"
    }
   ],
   "source": [
    "sample_dropna.count()"
   ]
  },
  {
   "cell_type": "code",
   "execution_count": 9,
   "id": "40d341b6-b167-447a-ba6a-d47a7e8730c1",
   "metadata": {},
   "outputs": [
    {
     "data": {
      "text/plain": [
       "<AxesSubplot: >"
      ]
     },
     "execution_count": 9,
     "metadata": {},
     "output_type": "execute_result"
    },
    {
     "data": {
      "image/png": "[encoded data removed]",
      "text/plain": [
       "<Figure size 640x480 with 1 Axes>"
      ]
     },
     "metadata": {},
     "output_type": "display_data"
    }
   ],
   "source": [
    "sample_dropna.plot()"
   ]
  },
  {
   "cell_type": "code",
   "execution_count": 11,
   "id": "117d1918-52c6-4858-ab90-0fa81a272e55",
   "metadata": {},
   "outputs": [],
   "source": [
    "#examing all csv's columns match\n",
    "csv_cloumns=[]\n",
    "for i in file_list:\n",
    "    sample = pd.read_csv(i, nrows=1, low_memory=False)\n",
    "    csv_cloumns.append(sample.columns)\n",
    "    \n",
    "import itertools\n",
    "for a, b in itertools.combinations(csv_cloumns, 2):\n",
    "    if (a==b).all(): pass\n",
    "    else: print('false')"
   ]
  },
  {
   "cell_type": "code",
   "execution_count": 12,
   "id": "0ac6195c-3fba-43d9-bec9-c6900dc997e0",
   "metadata": {},
   "outputs": [],
   "source": [
    "file_list=['spx/'+i for i in os.listdir('spx')]"
   ]
  },
  {
   "cell_type": "code",
   "execution_count": 13,
   "id": "05581e5b-271f-4733-b633-6d7cdaeefe6a",
   "metadata": {},
   "outputs": [],
   "source": [
    "sample = pd.read_csv(file_list[0])"
   ]
  },
  {
   "cell_type": "code",
   "execution_count": 14,
   "id": "b7b33a32-d713-4c53-9efe-d8692efd84d0",
   "metadata": {},
   "outputs": [
    {
     "data": {
      "text/html": [
       "<div>\n",
       "<style scoped>\n",
       "    .dataframe tbody tr th:only-of-type {\n",
       "        vertical-align: middle;\n",
       "    }\n",
       "\n",
       "    .dataframe tbody tr th {\n",
       "        vertical-align: top;\n",
       "    }\n",
       "\n",
       "    .dataframe thead th {\n",
       "        text-align: right;\n",
       "    }\n",
       "</style>\n",
       "<table border=\"1\" class=\"dataframe\">\n",
       "  <thead>\n",
       "    <tr style=\"text-align: right;\">\n",
       "      <th></th>\n",
       "      <th>[QUOTE_UNIXTIME]</th>\n",
       "      <th>[QUOTE_READTIME]</th>\n",
       "      <th>[QUOTE_DATE]</th>\n",
       "      <th>[QUOTE_TIME_HOURS]</th>\n",
       "      <th>[UNDERLYING_LAST]</th>\n",
       "      <th>[EXPIRE_DATE]</th>\n",
       "      <th>[EXPIRE_UNIX]</th>\n",
       "      <th>[DTE]</th>\n",
       "      <th>[C_DELTA]</th>\n",
       "      <th>[C_GAMMA]</th>\n",
       "      <th>...</th>\n",
       "      <th>[P_LAST]</th>\n",
       "      <th>[P_DELTA]</th>\n",
       "      <th>[P_GAMMA]</th>\n",
       "      <th>[P_VEGA]</th>\n",
       "      <th>[P_THETA]</th>\n",
       "      <th>[P_RHO]</th>\n",
       "      <th>[P_IV]</th>\n",
       "      <th>[P_VOLUME]</th>\n",
       "      <th>[STRIKE_DISTANCE]</th>\n",
       "      <th>[STRIKE_DISTANCE_PCT]</th>\n",
       "    </tr>\n",
       "  </thead>\n",
       "  <tbody>\n",
       "    <tr>\n",
       "      <th>0</th>\n",
       "      <td>1580763600</td>\n",
       "      <td>2020-02-03 16:00</td>\n",
       "      <td>2020-02-03</td>\n",
       "      <td>16.0</td>\n",
       "      <td>3248.65</td>\n",
       "      <td>2020-02-03</td>\n",
       "      <td>1580763600</td>\n",
       "      <td>0.0</td>\n",
       "      <td>0.99346</td>\n",
       "      <td>0.00002</td>\n",
       "      <td>...</td>\n",
       "      <td>0.07</td>\n",
       "      <td>-0.00018</td>\n",
       "      <td>0.0</td>\n",
       "      <td>0.00158</td>\n",
       "      <td>-0.02552</td>\n",
       "      <td>-0.00034</td>\n",
       "      <td>2.685290</td>\n",
       "      <td></td>\n",
       "      <td>1248.7</td>\n",
       "      <td>0.384</td>\n",
       "    </tr>\n",
       "    <tr>\n",
       "      <th>1</th>\n",
       "      <td>1580763600</td>\n",
       "      <td>2020-02-03 16:00</td>\n",
       "      <td>2020-02-03</td>\n",
       "      <td>16.0</td>\n",
       "      <td>3248.65</td>\n",
       "      <td>2020-02-03</td>\n",
       "      <td>1580763600</td>\n",
       "      <td>0.0</td>\n",
       "      <td>0.99321</td>\n",
       "      <td>0.00006</td>\n",
       "      <td>...</td>\n",
       "      <td>0.10</td>\n",
       "      <td>-0.00032</td>\n",
       "      <td>0.0</td>\n",
       "      <td>0.00143</td>\n",
       "      <td>-0.02513</td>\n",
       "      <td>0.00000</td>\n",
       "      <td>2.429650</td>\n",
       "      <td>26.000000</td>\n",
       "      <td>1148.7</td>\n",
       "      <td>0.354</td>\n",
       "    </tr>\n",
       "    <tr>\n",
       "      <th>2</th>\n",
       "      <td>1580763600</td>\n",
       "      <td>2020-02-03 16:00</td>\n",
       "      <td>2020-02-03</td>\n",
       "      <td>16.0</td>\n",
       "      <td>3248.65</td>\n",
       "      <td>2020-02-03</td>\n",
       "      <td>1580763600</td>\n",
       "      <td>0.0</td>\n",
       "      <td>0.99251</td>\n",
       "      <td>0.00006</td>\n",
       "      <td>...</td>\n",
       "      <td>0.10</td>\n",
       "      <td>-0.00015</td>\n",
       "      <td>0.0</td>\n",
       "      <td>0.00130</td>\n",
       "      <td>-0.02463</td>\n",
       "      <td>0.00000</td>\n",
       "      <td>2.304530</td>\n",
       "      <td>14.000000</td>\n",
       "      <td>1098.7</td>\n",
       "      <td>0.338</td>\n",
       "    </tr>\n",
       "    <tr>\n",
       "      <th>3</th>\n",
       "      <td>1580763600</td>\n",
       "      <td>2020-02-03 16:00</td>\n",
       "      <td>2020-02-03</td>\n",
       "      <td>16.0</td>\n",
       "      <td>3248.65</td>\n",
       "      <td>2020-02-03</td>\n",
       "      <td>1580763600</td>\n",
       "      <td>0.0</td>\n",
       "      <td>0.99183</td>\n",
       "      <td>0.00006</td>\n",
       "      <td>...</td>\n",
       "      <td>0.05</td>\n",
       "      <td>-0.00073</td>\n",
       "      <td>0.0</td>\n",
       "      <td>0.00210</td>\n",
       "      <td>-0.02493</td>\n",
       "      <td>0.00000</td>\n",
       "      <td>2.183160</td>\n",
       "      <td>10.000000</td>\n",
       "      <td>1048.7</td>\n",
       "      <td>0.323</td>\n",
       "    </tr>\n",
       "    <tr>\n",
       "      <th>4</th>\n",
       "      <td>1580763600</td>\n",
       "      <td>2020-02-03 16:00</td>\n",
       "      <td>2020-02-03</td>\n",
       "      <td>16.0</td>\n",
       "      <td>3248.65</td>\n",
       "      <td>2020-02-03</td>\n",
       "      <td>1580763600</td>\n",
       "      <td>0.0</td>\n",
       "      <td>0.99283</td>\n",
       "      <td>0.00002</td>\n",
       "      <td>...</td>\n",
       "      <td>0.15</td>\n",
       "      <td>-0.00029</td>\n",
       "      <td>0.0</td>\n",
       "      <td>0.00198</td>\n",
       "      <td>-0.02515</td>\n",
       "      <td>0.00000</td>\n",
       "      <td>2.064490</td>\n",
       "      <td>19.000000</td>\n",
       "      <td>998.7</td>\n",
       "      <td>0.307</td>\n",
       "    </tr>\n",
       "    <tr>\n",
       "      <th>...</th>\n",
       "      <td>...</td>\n",
       "      <td>...</td>\n",
       "      <td>...</td>\n",
       "      <td>...</td>\n",
       "      <td>...</td>\n",
       "      <td>...</td>\n",
       "      <td>...</td>\n",
       "      <td>...</td>\n",
       "      <td>...</td>\n",
       "      <td>...</td>\n",
       "      <td>...</td>\n",
       "      <td>...</td>\n",
       "      <td>...</td>\n",
       "      <td>...</td>\n",
       "      <td>...</td>\n",
       "      <td>...</td>\n",
       "      <td>...</td>\n",
       "      <td>...</td>\n",
       "      <td>...</td>\n",
       "      <td>...</td>\n",
       "      <td>...</td>\n",
       "    </tr>\n",
       "    <tr>\n",
       "      <th>132831</th>\n",
       "      <td>1582923600</td>\n",
       "      <td>2020-02-28 16:00</td>\n",
       "      <td>2020-02-28</td>\n",
       "      <td>16.0</td>\n",
       "      <td>2956.69</td>\n",
       "      <td>2022-12-16</td>\n",
       "      <td>1671224400</td>\n",
       "      <td>1022.0</td>\n",
       "      <td>0.03202</td>\n",
       "      <td>0.00012</td>\n",
       "      <td>...</td>\n",
       "      <td>1119.61</td>\n",
       "      <td>-0.93895</td>\n",
       "      <td>0.0</td>\n",
       "      <td>0.00000</td>\n",
       "      <td>-0.17034</td>\n",
       "      <td>-126.00439</td>\n",
       "      <td>0.000340</td>\n",
       "      <td>1.000000</td>\n",
       "      <td>1543.3</td>\n",
       "      <td>0.522</td>\n",
       "    </tr>\n",
       "    <tr>\n",
       "      <th>132832</th>\n",
       "      <td>1582923600</td>\n",
       "      <td>2020-02-28 16:00</td>\n",
       "      <td>2020-02-28</td>\n",
       "      <td>16.0</td>\n",
       "      <td>2956.69</td>\n",
       "      <td>2022-12-16</td>\n",
       "      <td>1671224400</td>\n",
       "      <td>1022.0</td>\n",
       "      <td>0.03021</td>\n",
       "      <td>0.00006</td>\n",
       "      <td>...</td>\n",
       "      <td>0.00</td>\n",
       "      <td>-1.00000</td>\n",
       "      <td>0.0</td>\n",
       "      <td>-16443.10040</td>\n",
       "      <td>0.00000</td>\n",
       "      <td>0.00000</td>\n",
       "      <td></td>\n",
       "      <td></td>\n",
       "      <td>1643.3</td>\n",
       "      <td>0.556</td>\n",
       "    </tr>\n",
       "    <tr>\n",
       "      <th>132833</th>\n",
       "      <td>1582923600</td>\n",
       "      <td>2020-02-28 16:00</td>\n",
       "      <td>2020-02-28</td>\n",
       "      <td>16.0</td>\n",
       "      <td>2956.69</td>\n",
       "      <td>2022-12-16</td>\n",
       "      <td>1671224400</td>\n",
       "      <td>1022.0</td>\n",
       "      <td>0.02299</td>\n",
       "      <td>0.00006</td>\n",
       "      <td>...</td>\n",
       "      <td>0.00</td>\n",
       "      <td>-1.00000</td>\n",
       "      <td>0.0</td>\n",
       "      <td>-17443.10024</td>\n",
       "      <td>0.00000</td>\n",
       "      <td>0.00000</td>\n",
       "      <td></td>\n",
       "      <td></td>\n",
       "      <td>1743.3</td>\n",
       "      <td>0.590</td>\n",
       "    </tr>\n",
       "    <tr>\n",
       "      <th>132834</th>\n",
       "      <td>1582923600</td>\n",
       "      <td>2020-02-28 16:00</td>\n",
       "      <td>2020-02-28</td>\n",
       "      <td>16.0</td>\n",
       "      <td>2956.69</td>\n",
       "      <td>2022-12-16</td>\n",
       "      <td>1671224400</td>\n",
       "      <td>1022.0</td>\n",
       "      <td>0.02147</td>\n",
       "      <td>0.00004</td>\n",
       "      <td>...</td>\n",
       "      <td>0.00</td>\n",
       "      <td>-1.00000</td>\n",
       "      <td>0.0</td>\n",
       "      <td>-18443.10002</td>\n",
       "      <td>0.00000</td>\n",
       "      <td>0.00000</td>\n",
       "      <td></td>\n",
       "      <td></td>\n",
       "      <td>1843.3</td>\n",
       "      <td>0.623</td>\n",
       "    </tr>\n",
       "    <tr>\n",
       "      <th>132835</th>\n",
       "      <td>1582923600</td>\n",
       "      <td>2020-02-28 16:00</td>\n",
       "      <td>2020-02-28</td>\n",
       "      <td>16.0</td>\n",
       "      <td>2956.69</td>\n",
       "      <td>2022-12-16</td>\n",
       "      <td>1671224400</td>\n",
       "      <td>1022.0</td>\n",
       "      <td>0.01448</td>\n",
       "      <td>0.00003</td>\n",
       "      <td>...</td>\n",
       "      <td>0.00</td>\n",
       "      <td>-1.00000</td>\n",
       "      <td>0.0</td>\n",
       "      <td>-19443.09982</td>\n",
       "      <td>0.00000</td>\n",
       "      <td>0.00000</td>\n",
       "      <td></td>\n",
       "      <td></td>\n",
       "      <td>1943.3</td>\n",
       "      <td>0.657</td>\n",
       "    </tr>\n",
       "  </tbody>\n",
       "</table>\n",
       "<p>132836 rows × 33 columns</p>\n",
       "</div>"
      ],
      "text/plain": [
       "        [QUOTE_UNIXTIME]   [QUOTE_READTIME]  [QUOTE_DATE]  \\\n",
       "0             1580763600   2020-02-03 16:00    2020-02-03   \n",
       "1             1580763600   2020-02-03 16:00    2020-02-03   \n",
       "2             1580763600   2020-02-03 16:00    2020-02-03   \n",
       "3             1580763600   2020-02-03 16:00    2020-02-03   \n",
       "4             1580763600   2020-02-03 16:00    2020-02-03   \n",
       "...                  ...                ...           ...   \n",
       "132831        1582923600   2020-02-28 16:00    2020-02-28   \n",
       "132832        1582923600   2020-02-28 16:00    2020-02-28   \n",
       "132833        1582923600   2020-02-28 16:00    2020-02-28   \n",
       "132834        1582923600   2020-02-28 16:00    2020-02-28   \n",
       "132835        1582923600   2020-02-28 16:00    2020-02-28   \n",
       "\n",
       "         [QUOTE_TIME_HOURS]   [UNDERLYING_LAST]  [EXPIRE_DATE]  \\\n",
       "0                      16.0             3248.65     2020-02-03   \n",
       "1                      16.0             3248.65     2020-02-03   \n",
       "2                      16.0             3248.65     2020-02-03   \n",
       "3                      16.0             3248.65     2020-02-03   \n",
       "4                      16.0             3248.65     2020-02-03   \n",
       "...                     ...                 ...            ...   \n",
       "132831                 16.0             2956.69     2022-12-16   \n",
       "132832                 16.0             2956.69     2022-12-16   \n",
       "132833                 16.0             2956.69     2022-12-16   \n",
       "132834                 16.0             2956.69     2022-12-16   \n",
       "132835                 16.0             2956.69     2022-12-16   \n",
       "\n",
       "         [EXPIRE_UNIX]   [DTE]   [C_DELTA]   [C_GAMMA]  ...   [P_LAST]  \\\n",
       "0           1580763600     0.0     0.99346     0.00002  ...       0.07   \n",
       "1           1580763600     0.0     0.99321     0.00006  ...       0.10   \n",
       "2           1580763600     0.0     0.99251     0.00006  ...       0.10   \n",
       "3           1580763600     0.0     0.99183     0.00006  ...       0.05   \n",
       "4           1580763600     0.0     0.99283     0.00002  ...       0.15   \n",
       "...                ...     ...         ...         ...  ...        ...   \n",
       "132831      1671224400  1022.0     0.03202     0.00012  ...    1119.61   \n",
       "132832      1671224400  1022.0     0.03021     0.00006  ...       0.00   \n",
       "132833      1671224400  1022.0     0.02299     0.00006  ...       0.00   \n",
       "132834      1671224400  1022.0     0.02147     0.00004  ...       0.00   \n",
       "132835      1671224400  1022.0     0.01448     0.00003  ...       0.00   \n",
       "\n",
       "         [P_DELTA]   [P_GAMMA]     [P_VEGA]  [P_THETA]    [P_RHO]     [P_IV]  \\\n",
       "0         -0.00018         0.0      0.00158   -0.02552   -0.00034   2.685290   \n",
       "1         -0.00032         0.0      0.00143   -0.02513    0.00000   2.429650   \n",
       "2         -0.00015         0.0      0.00130   -0.02463    0.00000   2.304530   \n",
       "3         -0.00073         0.0      0.00210   -0.02493    0.00000   2.183160   \n",
       "4         -0.00029         0.0      0.00198   -0.02515    0.00000   2.064490   \n",
       "...            ...         ...          ...        ...        ...        ...   \n",
       "132831    -0.93895         0.0      0.00000   -0.17034 -126.00439   0.000340   \n",
       "132832    -1.00000         0.0 -16443.10040    0.00000    0.00000              \n",
       "132833    -1.00000         0.0 -17443.10024    0.00000    0.00000              \n",
       "132834    -1.00000         0.0 -18443.10002    0.00000    0.00000              \n",
       "132835    -1.00000         0.0 -19443.09982    0.00000    0.00000              \n",
       "\n",
       "         [P_VOLUME]   [STRIKE_DISTANCE]   [STRIKE_DISTANCE_PCT]  \n",
       "0                                1248.7                   0.384  \n",
       "1         26.000000              1148.7                   0.354  \n",
       "2         14.000000              1098.7                   0.338  \n",
       "3         10.000000              1048.7                   0.323  \n",
       "4         19.000000               998.7                   0.307  \n",
       "...             ...                 ...                     ...  \n",
       "132831     1.000000              1543.3                   0.522  \n",
       "132832                           1643.3                   0.556  \n",
       "132833                           1743.3                   0.590  \n",
       "132834                           1843.3                   0.623  \n",
       "132835                           1943.3                   0.657  \n",
       "\n",
       "[132836 rows x 33 columns]"
      ]
     },
     "execution_count": 14,
     "metadata": {},
     "output_type": "execute_result"
    }
   ],
   "source": [
    "sample"
   ]
  },
  {
   "cell_type": "code",
   "execution_count": 15,
   "id": "b7ae559e-5d0a-440c-96db-086d8ed3635f",
   "metadata": {},
   "outputs": [
    {
     "data": {
      "text/plain": [
       "132836"
      ]
     },
     "execution_count": 15,
     "metadata": {},
     "output_type": "execute_result"
    }
   ],
   "source": [
    "sample[' [P_THETA]'].count().sum()"
   ]
  },
  {
   "cell_type": "code",
   "execution_count": 16,
   "id": "3ada9bdd-7f22-452f-b734-d0bc055c424a",
   "metadata": {},
   "outputs": [
    {
     "data": {
      "text/plain": [
       "69035"
      ]
     },
     "execution_count": 16,
     "metadata": {},
     "output_type": "execute_result"
    }
   ],
   "source": [
    "sample_dropna=sample[' [P_THETA]'].value_counts().dropna()\n",
    "sample_dropna.count()"
   ]
  },
  {
   "cell_type": "code",
   "execution_count": 17,
   "id": "ad244364-80c2-4160-a52c-f29a97bff931",
   "metadata": {},
   "outputs": [],
   "source": [
    "sample_dropna=sample_dropna.iloc[1:]"
   ]
  },
  {
   "cell_type": "code",
   "execution_count": 29,
   "id": "b161200c-f4c1-4866-b401-9c929deee710",
   "metadata": {},
   "outputs": [
    {
     "data": {
      "text/plain": [
       "-0.02511    36\n",
       "-0.02500    36\n",
       "-0.02475    34\n",
       "-0.02525    34\n",
       "-0.02517    33\n",
       "            ..\n",
       "-1.53069     1\n",
       "-1.76821     1\n",
       "-2.01840     1\n",
       "-2.31320     1\n",
       "-0.17937     1\n",
       "Name:  [P_THETA], Length: 69034, dtype: int64"
      ]
     },
     "execution_count": 29,
     "metadata": {},
     "output_type": "execute_result"
    }
   ],
   "source": [
    "sample_dropna"
   ]
  },
  {
   "cell_type": "code",
   "execution_count": 35,
   "id": "dba709a4-c569-49df-b054-109ae074addf",
   "metadata": {},
   "outputs": [
    {
     "data": {
      "text/plain": [
       "-23.49040    1\n",
       "-23.49018    1\n",
       "-23.09008    1\n",
       "-23.04046    1\n",
       "-23.04036    1\n",
       "            ..\n",
       "-0.00028     1\n",
       "-0.00016     1\n",
       "-0.00015     1\n",
       "-0.00012     1\n",
       "-0.00011     1\n",
       "Name:  [P_THETA], Length: 69034, dtype: int64"
      ]
     },
     "execution_count": 35,
     "metadata": {},
     "output_type": "execute_result"
    }
   ],
   "source": [
    "sample_dropna.sort_index()"
   ]
  },
  {
   "cell_type": "code",
   "execution_count": null,
   "id": "98b84390-768c-4d76-a0ac-708c84716528",
   "metadata": {},
   "outputs": [],
   "source": [
    "# data is obnormal with theta more than 20"
   ]
  },
  {
   "cell_type": "code",
   "execution_count": 38,
   "id": "344d0b97-7ff4-49f6-9f7b-bbdea402b237",
   "metadata": {},
   "outputs": [
    {
     "data": {
      "text/plain": [
       "-0.02511    36\n",
       "-0.02500    36\n",
       "-0.02475    34\n",
       "-0.02525    34\n",
       "-0.02517    33\n",
       "            ..\n",
       "-0.54289     1\n",
       "-0.62352     1\n",
       "-0.74008     1\n",
       "-0.90740     1\n",
       "-0.17937     1\n",
       "Name:  [P_THETA], Length: 56246, dtype: int64"
      ]
     },
     "execution_count": 38,
     "metadata": {},
     "output_type": "execute_result"
    }
   ],
   "source": [
    "sample_dropna[sample_dropna.index>-1]"
   ]
  },
  {
   "cell_type": "code",
   "execution_count": 19,
   "id": "2bbd6ba4-d894-4e5c-aa63-b9fea913bbd1",
   "metadata": {},
   "outputs": [
    {
     "data": {
      "text/plain": [
       "69034"
      ]
     },
     "execution_count": 19,
     "metadata": {},
     "output_type": "execute_result"
    }
   ],
   "source": [
    "sample_dropna.count()"
   ]
  },
  {
   "cell_type": "code",
   "execution_count": 20,
   "id": "fe9f740f-ceca-4bf9-9f0c-c5a33479273f",
   "metadata": {},
   "outputs": [
    {
     "data": {
      "text/plain": [
       "-23.4904"
      ]
     },
     "execution_count": 20,
     "metadata": {},
     "output_type": "execute_result"
    }
   ],
   "source": [
    "sample_dropna.index.min()"
   ]
  },
  {
   "cell_type": "code",
   "execution_count": 47,
   "id": "e6f8427f-179c-420b-bb86-f1a4cb1d523d",
   "metadata": {},
   "outputs": [
    {
     "data": {
      "text/plain": [
       "<AxesSubplot: >"
      ]
     },
     "execution_count": 47,
     "metadata": {},
     "output_type": "execute_result"
    },
    {
     "data": {
      "image/png": "[encoded data removed]",
      "text/plain": [
       "<Figure size 640x480 with 1 Axes>"
      ]
     },
     "metadata": {},
     "output_type": "display_data"
    }
   ],
   "source": [
    "sample_dropna[sample_dropna.index>-.025].sort_index().plot(xlim=(-0.025,-0.015))"
   ]
  },
  {
   "cell_type": "code",
   "execution_count": 49,
   "id": "ed33c289-5d8b-46c4-89ba-17862939bd66",
   "metadata": {},
   "outputs": [],
   "source": [
    "#examing all csv's columns match\n",
    "csv_cloumns=[]\n",
    "for i in file_list:\n",
    "    sample = pd.read_csv(i, nrows=1, low_memory=False)\n",
    "    csv_cloumns.append(sample.columns)\n",
    "    \n",
    "import itertools\n",
    "for a, b in itertools.combinations(csv_cloumns, 2):\n",
    "    if (a==b).all(): pass\n",
    "    else: print('false')"
   ]
  },
  {
   "cell_type": "code",
   "execution_count": null,
   "id": "d63f8672-daa9-4f52-a518-1aab488c7af5",
   "metadata": {},
   "outputs": [],
   "source": [
    "#generate emini price\n",
    "file_list=['spx/'+i for i in os.listdir('spx')]\n",
    "\n",
    "for i in file_list:\n",
    "    sample = pd.read_csv(i, low_memory=False)\n",
    "    sample = sample.iloc[:, [2,4]].drop_duplicates().set_index(' [QUOTE_DATE]')\n",
    "    sample.to_csv('emini/emini'+i[7:])"
   ]
  },
  {
   "cell_type": "code",
   "execution_count": 89,
   "id": "377e9b65-20fa-455b-8e86-ddc228023ba6",
   "metadata": {
    "tags": []
   },
   "outputs": [],
   "source": [
    "#clean data\n",
    "file_list=['spy/'+i for i in os.listdir('spy')]\n",
    "\n",
    "for i in file_list:\n",
    "    sample = pd.read_csv(i, low_memory=False)\n",
    "    sample = sample.drop(columns=['[QUOTE_UNIXTIME]', ' [QUOTE_READTIME]', \n",
    "       ' [QUOTE_TIME_HOURS]', ' [EXPIRE_UNIX]', ' [C_RHO]', ' [C_IV]', ' [C_VOLUME]', ' [C_LAST]',\n",
    "       ' [C_SIZE]',' [P_SIZE]', ' [P_LAST]', ' [P_RHO]', ' [P_IV]', ' [P_VOLUME]'])\n",
    "    sample.to_csv('spy_cleaned/'+i[4:])"
   ]
  },
  {
   "cell_type": "code",
   "execution_count": 64,
   "id": "f84d6e1d-824c-499a-990b-5685bb754399",
   "metadata": {
    "tags": []
   },
   "outputs": [],
   "source": [
    "#clean data and to parquet\n",
    "file_list=['spy/'+i for i in os.listdir('spy')]\n",
    "\n",
    "for i in file_list:\n",
    "    sample = pd.read_csv(i, index_col=['[QUOTE_DATE]','[EXPIRE_DATE]'], skipinitialspace=True,low_memory=False)\n",
    "    sample = sample.drop(columns=['[QUOTE_UNIXTIME]', '[QUOTE_READTIME]', '[QUOTE_TIME_HOURS]', '[EXPIRE_UNIX]', '[C_RHO]', '[C_IV]', '[C_VOLUME]', '[C_LAST]','[C_SIZE]','[P_SIZE]', '[P_LAST]', '[P_RHO]', '[P_IV]', '[P_VOLUME]'])\n",
    "    sample.to_parquet('spy_cleaned/'+i[4:-4])"
   ]
  },
  {
   "cell_type": "code",
   "execution_count": 90,
   "id": "8903168d-00eb-4132-9852-f97e06d664c1",
   "metadata": {
    "tags": []
   },
   "outputs": [],
   "source": [
    "#clean data\n",
    "file_list=['spx/'+i for i in os.listdir('spx')]\n",
    "\n",
    "for i in file_list:\n",
    "    sample = pd.read_csv(i, low_memory=False)\n",
    "    sample = sample.drop(columns=['[QUOTE_UNIXTIME]', ' [QUOTE_READTIME]', \n",
    "       ' [QUOTE_TIME_HOURS]', ' [EXPIRE_UNIX]', ' [C_RHO]', ' [C_IV]', ' [C_VOLUME]', ' [C_LAST]',\n",
    "       ' [C_SIZE]',' [P_SIZE]', ' [P_LAST]', ' [P_RHO]', ' [P_IV]', ' [P_VOLUME]'])\n",
    "    sample.to_csv('spx_cleaned/'+i[4:])"
   ]
  },
  {
   "cell_type": "code",
   "execution_count": 65,
   "id": "2018ad65-85bc-4552-a442-534afd6efa85",
   "metadata": {
    "tags": []
   },
   "outputs": [],
   "source": [
    "#clean data and to parquet\n",
    "file_list=['spx/'+i for i in os.listdir('spx')]\n",
    "\n",
    "for i in file_list:\n",
    "    sample = pd.read_csv(i, index_col=['[QUOTE_DATE]','[EXPIRE_DATE]'], skipinitialspace=True,low_memory=False)\n",
    "    sample = sample.drop(columns=['[QUOTE_UNIXTIME]', '[QUOTE_READTIME]', '[QUOTE_TIME_HOURS]', '[EXPIRE_UNIX]', '[C_RHO]', '[C_IV]', '[C_VOLUME]', '[C_LAST]','[C_SIZE]','[P_SIZE]', '[P_LAST]', '[P_RHO]', '[P_IV]', '[P_VOLUME]'])\n",
    "    sample.to_parquet('spx_cleaned/'+i[4:-4])"
   ]
  },
  {
   "cell_type": "code",
   "execution_count": 83,
   "id": "9de1f24f-55fa-4cb3-bb20-e043c547683a",
   "metadata": {},
   "outputs": [
    {
     "data": {
      "text/plain": [
       "<AxesSubplot: xlabel=' [QUOTE_DATE]'>"
      ]
     },
     "execution_count": 83,
     "metadata": {},
     "output_type": "execute_result"
    },
    {
     "data": {
      "image/png": "[encoded data removed]",
      "text/plain": [
       "<Figure size 640x480 with 1 Axes>"
      ]
     },
     "metadata": {},
     "output_type": "display_data"
    }
   ],
   "source": [
    "#clean data\n",
    "file_list=['emini/'+i for i in os.listdir('emini')]\n",
    "\n",
    "emini_df=pd.DataFrame()\n",
    "for i in file_list:\n",
    "    sample = pd.read_csv(i, low_memory=False)\n",
    "    emini_df=emini_df.append(sample)\n",
    "\n",
    "emini_df.set_index(' [QUOTE_DATE]').sort_index().plot()"
   ]
  }
 ],
 "metadata": {
  "kernelspec": {
   "display_name": "Python 3 (ipykernel)",
   "language": "python",
   "name": "python3"
  },
  "language_info": {
   "codemirror_mode": {
    "name": "ipython",
    "version": 3
   },
   "file_extension": ".py",
   "mimetype": "text/x-python",
   "name": "python",
   "nbconvert_exporter": "python",
   "pygments_lexer": "ipython3",
   "version": "3.10.2"
  }
 },
 "nbformat": 4,
 "nbformat_minor": 5
}
