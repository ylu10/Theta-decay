{
 "cells": [
  {
   "cell_type": "markdown",
   "id": "543cf83c-814b-4f26-b0a3-4305e4d22d17",
   "metadata": {},
   "source": [
    "# report"
   ]
  },
  {
   "cell_type": "code",
   "execution_count": 2,
   "id": "82c2acbf-20bd-4b90-b67e-9d4ab18eede7",
   "metadata": {},
   "outputs": [],
   "source": [
    "import numpy as np\n",
    "import pandas as pd\n",
    "import os\n",
    "import warnings\n",
    "warnings.filterwarnings('ignore')\n",
    "from contract_select import contract_select\n",
    "from hedge_calc import hedge_calc\n",
    "from greek_calc import greek_calc, pnl_daily_calc\n",
    "from position_adj_cost import position_adj_cost"
   ]
  },
  {
   "cell_type": "code",
   "execution_count": null,
   "id": "78434762-e9aa-445d-af25-fea2a0e089b1",
   "metadata": {
    "jupyter": {
     "source_hidden": true
    },
    "tags": []
   },
   "outputs": [],
   "source": [
    "data= 'spy',\n",
    "date= '20170912',\n",
    "maxDTE: int = 30,\n",
    "minDTE: int = 10,\n",
    "maxDistance: float = 0.2,\n",
    "minDistance: float = 0.08,\n",
    "maxTheta: float = -0.0,\n",
    "minTheta: float = -1.2,\n",
    "contract_type: str = 'C',\n",
    "moneyness = 'out'"
   ]
  },
  {
   "cell_type": "code",
   "execution_count": null,
   "id": "00df9174-436a-4e20-b85c-0e2f30101f51",
   "metadata": {
    "tags": []
   },
   "outputs": [],
   "source": [
    "contract_select(selct_type='main', date= '20190917', spy_spx='spx', contract_type='P', minAsk=0.2, minDistance = 0.1)[1]"
   ]
  },
  {
   "cell_type": "code",
   "execution_count": null,
   "id": "5c95c32d-d07c-45dd-9517-f37c7cdf6816",
   "metadata": {
    "tags": []
   },
   "outputs": [],
   "source": [
    "contract_select(selct_type='hedge', date= '20190917', spy_spx='spx', contract_type='P', minAsk=0.2, minDistance = 0.1)[1]"
   ]
  },
  {
   "cell_type": "code",
   "execution_count": 12,
   "id": "4efafcfc-f78e-41d2-9f8c-ad270d3b93c2",
   "metadata": {},
   "outputs": [],
   "source": [
    "df1=contract_select(selct_type='main', date= '20100125', spy_spx='spx', contract_type='P', minAsk=0.2, minDistance = 0.08, num=3)\n",
    "df2=contract_select(selct_type='main', date= '20101223', spy_spx='spx', contract_type='P', minAsk=0.2, minDistance = 0.08, num=3)\n",
    "df3=contract_select(selct_type='hedge', date= '20100125', spy_spx='spx', contract_type='P', minAsk=0.2, minDistance = 0.08, num=3)\n",
    "df4=contract_select(selct_type='hedge', date= '20101223', spy_spx='spx', contract_type='P', minAsk=0.2, minDistance = 0.08, num=3)"
   ]
  },
  {
   "cell_type": "code",
   "execution_count": 13,
   "id": "17472c46-861a-4f98-a234-05671b5c76dc",
   "metadata": {},
   "outputs": [],
   "source": [
    "d1 = hedge_calc(df1['main'],df3['hedge'],df1['main_type'],df3['hedge_type'])\n",
    "d2 = hedge_calc(df2['main'],df4['hedge'],df2['main_type'],df4['hedge_type'])"
   ]
  },
  {
   "cell_type": "code",
   "execution_count": 14,
   "id": "59b454d3-ce88-4dfb-815b-17da2c922467",
   "metadata": {},
   "outputs": [
    {
     "data": {
      "text/plain": [
       "{'daily_rtn': array([-0.02266824]),\n",
       " 'main':                             [UNDERLYING_LAST]  [DTE]  [STRIKE]  [P_BID]  \\\n",
       " [QUOTE_DATE] [EXPIRE_DATE]                                                \n",
       " 2010-01-25   2010-02-18               1097.17   24.0     900.0     1.65   \n",
       "              2010-02-18               1097.17   24.0    1000.0     5.90   \n",
       "              2010-02-18               1097.17   24.0     905.0     1.74   \n",
       " 2010-12-23   2011-01-20               1256.73   28.0    1075.0     0.84   \n",
       "              2011-01-20               1256.73   28.0    1050.0     0.60   \n",
       "              2011-01-20               1256.73   28.0    1100.0     1.00   \n",
       " \n",
       "                             [P_ASK]  [P_DELTA]  [P_GAMMA]  [P_VEGA]  \\\n",
       " [QUOTE_DATE] [EXPIRE_DATE]                                            \n",
       " 2010-01-25   2010-02-18        1.75   -0.03418    0.00066   0.21727   \n",
       "              2010-02-18        6.20   -0.12839    0.00236   0.60273   \n",
       "              2010-02-18        1.95   -0.03679    0.00068   0.23223   \n",
       " 2010-12-23   2011-01-20        0.90   -0.02309    0.00055   0.19300   \n",
       "              2011-01-20        0.71   -0.01598    0.00034   0.14525   \n",
       "              2011-01-20        1.30   -0.03174    0.00073   0.25170   \n",
       " \n",
       "                             [P_THETA]  [STRIKE_DISTANCE]  \\\n",
       " [QUOTE_DATE] [EXPIRE_DATE]                                 \n",
       " 2010-01-25   2010-02-18      -0.18367              197.2   \n",
       "              2010-02-18      -0.39504               97.2   \n",
       "              2010-02-18      -0.19442              192.2   \n",
       " 2010-12-23   2011-01-20      -0.09256              181.7   \n",
       "              2011-01-20      -0.07473              206.7   \n",
       "              2011-01-20      -0.11169              156.7   \n",
       " \n",
       "                             [STRIKE_DISTANCE_PCT]      UTILITY    WEIGHT  \\\n",
       " [QUOTE_DATE] [EXPIRE_DATE]                                                 \n",
       " 2010-01-25   2010-02-18                     0.180   711.332668 -0.333333   \n",
       "              2010-02-18                     0.089   967.262642 -0.333333   \n",
       "              2010-02-18                     0.175   997.008277 -0.333333   \n",
       " 2010-12-23   2011-01-20                     0.145   783.536827  0.000000   \n",
       "              2011-01-20                     0.165  1243.302815  0.000000   \n",
       "              2011-01-20                     0.125  1788.604040  0.000000   \n",
       " \n",
       "                             ADJUSTED WEIGHT  SPREAD  ADJUST COST  \n",
       " [QUOTE_DATE] [EXPIRE_DATE]                                        \n",
       " 2010-01-25   2010-02-18            0.000000    0.10     0.000000  \n",
       "              2010-02-18            0.000000    0.30     0.000000  \n",
       "              2010-02-18            0.000000    0.21     0.000000  \n",
       " 2010-12-23   2011-01-20           -0.333333    0.06    -0.020000  \n",
       "              2011-01-20           -0.333333    0.11    -0.036667  \n",
       "              2011-01-20           -0.333333    0.30    -0.100000  ,\n",
       " 'main_type': 'spx',\n",
       " 'hedge':                             [UNDERLYING_LAST]  [DTE]  [STRIKE]  [P_BID]  \\\n",
       " [QUOTE_DATE] [EXPIRE_DATE]                                                \n",
       " 2010-01-25   2010-02-18               1097.17   24.0    1000.0     5.90   \n",
       "              2010-02-18               1097.17   24.0     900.0     1.65   \n",
       "              2010-02-18               1097.17   24.0    1005.0     6.00   \n",
       " 2010-12-23   2011-01-20               1256.73   28.0    1075.0     0.84   \n",
       "              2011-01-20               1256.73   28.0    1050.0     0.60   \n",
       "              2011-01-20               1256.73   28.0    1150.0     2.10   \n",
       " \n",
       "                             [P_ASK]  [P_DELTA]  [P_GAMMA]  [P_VEGA]  \\\n",
       " [QUOTE_DATE] [EXPIRE_DATE]                                            \n",
       " 2010-01-25   2010-02-18        6.20   -0.12839    0.00236   0.60273   \n",
       "              2010-02-18        1.75   -0.03418    0.00066   0.21727   \n",
       "              2010-02-18        7.31   -0.14003    0.00244   0.63848   \n",
       " 2010-12-23   2011-01-20        0.90   -0.02309    0.00055   0.19300   \n",
       "              2011-01-20        0.71   -0.01598    0.00034   0.14525   \n",
       "              2011-01-20        2.85   -0.07138    0.00179   0.48250   \n",
       " \n",
       "                             [P_THETA]  [STRIKE_DISTANCE]  \\\n",
       " [QUOTE_DATE] [EXPIRE_DATE]                                 \n",
       " 2010-01-25   2010-02-18      -0.39504               97.2   \n",
       "              2010-02-18      -0.18367              197.2   \n",
       "              2010-02-18      -0.41563               92.2   \n",
       " 2010-12-23   2011-01-20      -0.09256              181.7   \n",
       "              2011-01-20      -0.07473              206.7   \n",
       "              2011-01-20      -0.18274              106.7   \n",
       " \n",
       "                             [STRIKE_DISTANCE_PCT]      UTILITY    WEIGHT  \\\n",
       " [QUOTE_DATE] [EXPIRE_DATE]                                                 \n",
       " 2010-01-25   2010-02-18                     0.089 -1004.813702 -0.080229   \n",
       "              2010-02-18                     0.180  -385.302023 -5.402533   \n",
       "              2010-02-18                     0.084  -324.240516  2.463522   \n",
       " 2010-12-23   2011-01-20                     0.145  -448.395780  0.000000   \n",
       "              2011-01-20                     0.165   127.171490  0.000000   \n",
       "              2011-01-20                     0.085   306.845322  0.000000   \n",
       " \n",
       "                             ADJUSTED WEIGHT  SPREAD  ADJUST COST  \n",
       " [QUOTE_DATE] [EXPIRE_DATE]                                        \n",
       " 2010-01-25   2010-02-18            0.000000    0.30     0.000000  \n",
       "              2010-02-18            0.000000    0.10     0.000000  \n",
       "              2010-02-18            0.000000    1.31     0.000000  \n",
       " 2010-12-23   2011-01-20           -2.257928    0.06    -0.135476  \n",
       "              2011-01-20           -2.494349    0.11    -0.274378  \n",
       "              2011-01-20            2.061625    0.75    -1.546219  ,\n",
       " 'hedge_type': 'spx'}"
      ]
     },
     "execution_count": 14,
     "metadata": {},
     "output_type": "execute_result"
    }
   ],
   "source": [
    "position_adj_cost(d1,d2)"
   ]
  },
  {
   "cell_type": "code",
   "execution_count": null,
   "id": "1f582a2f-fa88-4cff-903d-e67764cedcd7",
   "metadata": {},
   "outputs": [],
   "source": [
    "d = pnl_daily_calc(d)"
   ]
  },
  {
   "cell_type": "code",
   "execution_count": null,
   "id": "8bedb0f6-9c3a-4189-b1c2-6a5a62cb639e",
   "metadata": {
    "tags": []
   },
   "outputs": [],
   "source": [
    "d = hedge_calc(d['main'], d['hedge'], d['main_type'], d['hedge_type'])\n",
    "d"
   ]
  },
  {
   "cell_type": "code",
   "execution_count": null,
   "id": "50bae3d8-0734-4308-947d-913c3359ad65",
   "metadata": {
    "tags": []
   },
   "outputs": [],
   "source": [
    "d = hedge_calc(d['main'], d['hedge'], d['main_type'], d['hedge_type'])\n",
    "d"
   ]
  },
  {
   "cell_type": "code",
   "execution_count": null,
   "id": "836602f3-4116-46b4-b490-b83fbf6773bd",
   "metadata": {
    "tags": []
   },
   "outputs": [],
   "source": [
    "for i in range(15):\n",
    "    d = pnl_daily_calc(d)\n",
    "    print(d['main'].index[0][0], d['daily_rtn'])"
   ]
  },
  {
   "cell_type": "code",
   "execution_count": null,
   "id": "412b0816-2d9f-4277-a990-2e411d87b1d1",
   "metadata": {},
   "outputs": [],
   "source": [
    "main_original=contract_select(selct_type='hedge', date= '20101222', spy_spx='spx', contract_type='C', minAsk=0.2, minDistance = 0.08, num=3)[1]\n",
    "main_adjusted=contract_select(selct_type='hedge', date= '20100125', spy_spx='spx', contract_type='C', minAsk=0.2, minDistance = 0.08, num=3)[1]"
   ]
  },
  {
   "cell_type": "code",
   "execution_count": null,
   "id": "e2d9cc74-03b7-49d3-bde2-58949842cacf",
   "metadata": {},
   "outputs": [],
   "source": [
    "position_adj_cost(main_original, main_adjusted)"
   ]
  },
  {
   "cell_type": "code",
   "execution_count": null,
   "id": "86c9b648-68ef-4f46-a71c-65dbffda9232",
   "metadata": {},
   "outputs": [],
   "source": [
    "main_original['WEIGHT'] = -1\n",
    "main_adjusted['WEIGHT'] = [0.5, 1, 1.5]"
   ]
  },
  {
   "cell_type": "code",
   "execution_count": null,
   "id": "8b35f0c9-8738-4b65-825d-387dc730d69e",
   "metadata": {
    "tags": []
   },
   "outputs": [],
   "source": [
    "main_original"
   ]
  },
  {
   "cell_type": "code",
   "execution_count": null,
   "id": "b874b4ea-7fad-4b51-a616-68ee4b0f1ae9",
   "metadata": {
    "tags": []
   },
   "outputs": [],
   "source": [
    "main_adjusted"
   ]
  },
  {
   "cell_type": "code",
   "execution_count": null,
   "id": "dbdc6b8b-08b9-4c54-9b13-7d90e08fa9a6",
   "metadata": {},
   "outputs": [],
   "source": [
    "main_original"
   ]
  },
  {
   "cell_type": "code",
   "execution_count": null,
   "id": "9fc2ef51-bd45-4ae9-853f-a3179de8bed0",
   "metadata": {},
   "outputs": [],
   "source": [
    "    #calculate the notional adjust cost for the main contracts\n",
    "    main_original['SPREAD'] = main_original.filter(regex='ASK').values - main_original.filter(regex='BID').values\n",
    "    main_original['ADJUST COST'] = 0\n",
    "    k = len(main_original)\n",
    "    for i in range(k):\n",
    "        if main_original['WEIGHT'][i] <= 0:\n",
    "            if main_original['ADJUSTED WEIGHT'][i] < main_original['WEIGHT'][i]: \n",
    "                main_original['ADJUST COST'][i] = (main_original['ADJUSTED WEIGHT'][i] - main_original['WEIGHT'][i])*main_original['SPREAD'][i]\n",
    "            if main_original['ADJUSTED WEIGHT'][i] > 0:\n",
    "                main_original['ADJUST COST'][i] = -main_original['ADJUSTED WEIGHT'][i] *main_original['SPREAD'][i]\n",
    "        if main_original['WEIGHT'][i] > 0:\n",
    "            if main_original['ADJUSTED WEIGHT'][i] > main_original['WEIGHT'][i]: \n",
    "                main_original['ADJUST COST'][i] = -(main_original['ADJUSTED WEIGHT'][i] - main_original['WEIGHT'][i])*main_original['SPREAD'][i]\n",
    "            if main_original['ADJUSTED WEIGHT'][i] < 0:\n",
    "                main_original['ADJUST COST'][i] = main_original['ADJUSTED WEIGHT'][i] *main_original['SPREAD'][i]\n",
    "\n",
    "    #calculate the notional adjust cost for the hedge contracts     \n",
    "    hedge_original['SPREAD'] = hedge_original.filter(regex='ASK').values - hedge_original.filter(regex='BID').values\n",
    "    hedge_original['ADJUST COST'] = 0\n",
    "    k = len(hedge_original)\n",
    "    for i in range(k):\n",
    "        if hedge_original['WEIGHT'][i] <= 0:\n",
    "            if hedge_original['ADJUSTED WEIGHT'][i] < hedge_original['WEIGHT'][i]: \n",
    "                hedge_original['ADJUST COST'][i] = (hedge_original['ADJUSTED WEIGHT'][i] - hedge_original['WEIGHT'][i])*hedge_original['SPREAD'][i]\n",
    "            if hedge_original['ADJUSTED WEIGHT'][i] > 0:\n",
    "                hedge_original['ADJUST COST'][i] = -hedge_original['ADJUSTED WEIGHT'][i] *hedge_original['SPREAD'][i]\n",
    "        if hedge_original['WEIGHT'][i] > 0:\n",
    "            if hedge_original['ADJUSTED WEIGHT'][i] > hedge_original['WEIGHT'][i]: \n",
    "                hedge_original['ADJUST COST'][i] = -(hedge_original['ADJUSTED WEIGHT'][i] - hedge_original['WEIGHT'][i])*hedge_original['SPREAD'][i]\n",
    "            if hedge_original['ADJUSTED WEIGHT'][i] < 0:\n",
    "                hedge_original['ADJUST COST'][i] = hedge_original['ADJUSTED WEIGHT'][i] *hedge_original['SPREAD'][i]"
   ]
  },
  {
   "cell_type": "code",
   "execution_count": null,
   "id": "951241ff-8f8b-460b-b5de-77fb3709ca3c",
   "metadata": {},
   "outputs": [],
   "source": [
    "main_original['ADJUSTED WEIGHT'] = 0\n",
    "#concat new (if there are) contracts to the original main contract\n",
    "#set the 'adjusted weight' of the new contracts to the same value of the column 'weight'\n",
    "#set the value of the column 'weight' to 0\n",
    "k = len(main_original)\n",
    "\n",
    "for m in range(len(main_adjusted)):\n",
    "    contract_to_update = main_adjusted.iloc[m]\n",
    "    expired_date= contract_to_update.name[1]\n",
    "    print('B',m)\n",
    "    # k = len(main_original)\n",
    "    for n in range(k):\n",
    "        print('S',n)\n",
    "        contract_to_compare = main_original.iloc[n]\n",
    "        \n",
    "        if expired_date == contract_to_compare.name[1] and contract_to_update['[STRIKE]'] == contract_to_compare['[STRIKE]']:\n",
    "            main_original['ADJUSTED WEIGHT'][m] = contract_to_update['WEIGHT']\n",
    "            break\n",
    "        # elif (expired_date != contract_to_compare.name[1] or contract_to_update['[STRIKE]'] != contract_to_compare['[STRIKE]']): \n",
    "        else:\n",
    "            if n == (k-1):\n",
    "                main_original = main_original.append(main_adjusted.iloc[[m]])\n",
    "                main_original['ADJUSTED WEIGHT'][-1] = main_original['WEIGHT'][-1].copy()\n",
    "                main_original['WEIGHT'][-1] = 0\n",
    "                print('c')"
   ]
  },
  {
   "cell_type": "code",
   "execution_count": null,
   "id": "47316a00-b2a0-427f-b003-d262ae176d25",
   "metadata": {},
   "outputs": [],
   "source": [
    "main_original['WEIGHT'][-1].copy()"
   ]
  },
  {
   "cell_type": "code",
   "execution_count": null,
   "id": "abaf5dfc-a362-46b9-8097-c4ff8ca315c7",
   "metadata": {},
   "outputs": [],
   "source": []
  }
 ],
 "metadata": {
  "kernelspec": {
   "display_name": "Python 3 (ipykernel)",
   "language": "python",
   "name": "python3"
  },
  "language_info": {
   "codemirror_mode": {
    "name": "ipython",
    "version": 3
   },
   "file_extension": ".py",
   "mimetype": "text/x-python",
   "name": "python",
   "nbconvert_exporter": "python",
   "pygments_lexer": "ipython3",
   "version": "3.10.2"
  }
 },
 "nbformat": 4,
 "nbformat_minor": 5
}
